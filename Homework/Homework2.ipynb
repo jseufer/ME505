{
 "cells": [
  {
   "cell_type": "markdown",
   "metadata": {},
   "source": [
    "Jeff Seufer, PUID 0025652596"
   ]
  },
  {
   "cell_type": "code",
   "execution_count": 158,
   "metadata": {},
   "outputs": [],
   "source": [
    "# First import all required Python libraries\n",
    "import numpy as np\n",
    "import matplotlib.pyplot as plt\n",
    "import sympy \n",
    "from sympy import *\n",
    "from sympy.abc import x"
   ]
  },
  {
   "cell_type": "markdown",
   "metadata": {},
   "source": [
    "\\section*{Problem 1}\n",
    "\n",
    "Consider the toroidal-shaped control volume shown within a solid object. The thermal conductivity is constant, but  anisotropic: specifically, the conductivity has one value along the axial direction ($k_z$) and another value in plane ($k_r$). Assume a spatially-varying heat generation rate  $\\dot q(r,z)$ within the medium and assume the system has reached steady state.\n",
    "\n",
    "![title](Images/HW2_1_1.png)\n",
    "\n",
    "\\subsection*{Part 1}\n",
    "\n",
    "Starting with the heat diffusion equation simplify it as much as possible for the geometry and conditions described above.  List all assumptions as you simplify the expression.\n",
    "\\begin{equation}\\notag\n",
    "\\ \\rho c_p\\frac{\\partial T}{\\partial t} = \\frac{1}{r} \\frac{\\partial}{\\partial r} ( k_r r\\frac{\\partial T}{\\partial r}) + \\frac{1}{r^2} \\frac{\\partial}{\\partial \\theta} (k_{\\theta} \\frac{\\partial T}{\\partial \\theta})+\\frac{\\partial}{\\partial z} (k_z \\frac{\\partial T}{\\partial z}) + \\dot q\n",
    "\\end{equation}\n",
    "\n",
    "\\subsection*{Part 1 - Response}\n",
    "\n",
    "Assumptions:\n",
    "\\begin{itemize}\n",
    "\\item k is constant (along r and z directions)\n",
    "\\item steady state ($\\frac{\\partial T}{\\partial t} = 0$)\n",
    "\\item one dimensional radial conduction ($\\frac{\\partial T}{\\partial \\theta} = 0$)\n",
    "\\end{itemize}\n",
    "\n",
    "\\begin{equation}\\notag\n",
    "\\ \\rho c_p(0) = \\frac{k_r}{r} \\frac{\\partial}{\\partial r} (r \\frac{\\partial T}{\\partial r}) + \\frac{1}{r^2} \\frac{\\partial}{\\partial \\theta} (k_{\\theta} (0))+k_z \\frac{\\partial}{\\partial z} (\\frac{\\partial T}{\\partial z}) + \\dot q\n",
    "\\end{equation}\n",
    "\n",
    "\\begin{equation}\\notag\n",
    "\\boxed{ 0 = \\frac{k_r}{r} \\frac{\\partial}{\\partial r} (r \\frac{\\partial T}{\\partial r}) +k_z  (\\frac{\\partial^2 T}{\\partial z^2}) + \\dot q(r,z)}\n",
    "\\end{equation}"
   ]
  },
  {
   "cell_type": "markdown",
   "metadata": {},
   "source": [
    "Now derive this simplified form of the heat diffusion equation from an energy balance on this control volume:\n",
    "\n",
    "\\subsection*{Part 2}\n",
    "\n",
    "Write an expression for the conductive heat transfer rate, $q_r$, into the inner cylindrical surface (at $r = r_0$)in terms of thermal conductivity, temperatures, and any other appropriate variables.\n",
    "\n",
    "\\subsection*{Part 2 - Response}\n",
    "\n",
    "\\begin{equation}\\notag\n",
    "\\ q_r = q''_r A \\rightarrow \\boxed{q_r = (-k_r \\frac{\\partial T}{\\partial t})2 \\pi r_0 dz}\n",
    "\\end{equation}\n",
    "\n",
    "\\subsection*{Part 3}\n",
    "\n",
    "Use a Taylor series expansion to evaluate the conductive heat transfer rate, $q_{r+dr}$, out of the outer cylindrical surface (at $r = r_0 +dr$) in terms of $q_r$.\n",
    "\n",
    "\\subsection*{Part 3 - Response}\n",
    "\n",
    "\\begin{equation}\\notag\n",
    "\\boxed{ q_{r+dr} = q_r + \\frac{\\partial}{\\partial r}(q_r) dr}\n",
    "\\end{equation}\n",
    "\n",
    "\\subsection*{Part 4}\n",
    "\n",
    "Combine your answers from (2) and (3) to find an expression for $q_r-q_{r+dr}$ in terms of thermal conductivity, temperatures, and any other appropriate variables. Consider carefully your expression for heat transfer rate in (2): what parameters change with radius?\n",
    "\n",
    "\\subsection*{Part 4 - Response}\n",
    "\n",
    "Along the radius, the following will change:\n",
    "\\begin{itemize}\n",
    "\\item Area for conduction\n",
    "\\item Temperature gradient ($\\frac{\\partial T}{\\partial r}$)\n",
    "\\end{itemize}\n",
    "\n",
    "\\begin{equation}\\notag\n",
    "\\begin{aligned}\n",
    "\\ q_r - q_{r+dr} &= q_r - [\\ q_r + \\frac{\\partial}{\\partial r}(q_r) dr]\\ \\\\ \n",
    "&= q_r - [\\ q_r + \\frac{\\partial}{\\partial r}((-k_r \\frac{\\partial T}{\\partial t})2 \\pi r dz) dr]\\ \\\\\n",
    "&= q_r - q_r - (-2 \\pi k_r) \\frac{\\partial}{\\partial r}( r \\frac{\\partial T}{\\partial t}) dzdr \\\\\n",
    "&= \\boxed{2 \\pi k_r \\frac{\\partial}{\\partial r}( r \\frac{\\partial T}{\\partial t}) dzdr}\n",
    "\\end{aligned}\n",
    "\\end{equation}\n",
    "\n",
    "\\subsection*{Part 5}\n",
    "\n",
    "Now, starting with an energy balance on the toroidal-shaped control volume shown, derive the 2D (r-z), transient heat equation for cylindrical coordinates.  Show all your work (but you may reference your work in (2)-(4) as needed instead of rewriting the work).\n",
    "\n",
    "\\subsection*{Part 5 - Response}\n",
    "\n",
    "\\begin{equation}\\label{Energy Balance}\n",
    "\\begin{aligned}\n",
    "\\ \\dot E_{in} - \\dot E_{out} + \\dot E_{gen} = \\dot E_{st} \\\\\n",
    "(q_r + q_z) - (q_{r+dr} + q_{z+dz}) + (\\dot q V) = (\\rho c_p V \\frac{\\partial T}{\\partial t}) \\\\\n",
    "(q_r - q_{r+dr}) + (q_z - q_{z+dz}) + (\\dot q V) = (\\rho c_p V \\frac{\\partial T}{\\partial t})\n",
    "\\end{aligned}\n",
    "\\end{equation}\n",
    "\n",
    "The solution of q in the z direction can be solved using the same strategy that was developed and used in the r direction for Part 4 above.\n",
    "\n",
    "\\begin{equation}\n",
    "(2 \\pi k_r \\frac{\\partial}{\\partial r}( r \\frac{\\partial T}{\\partial t}) dzdr) + (2 \\pi r_0 k_z \\frac{\\partial}{\\partial z}( \\frac{\\partial T}{\\partial t}) drdz) + (\\dot q V) = (\\rho c_p V \\frac{\\partial T}{\\partial t})\n",
    "\\end{equation}\n",
    "\n",
    "An important substitution here is that the Volume (V) is equal to $2 \\pi r_0 dr dz$ and $2 \\pi r_0 dz dr$\n",
    "\n",
    "\\begin{equation}\n",
    "\\boxed{\\frac{k_r}{r_0} \\frac{\\partial}{\\partial r}( r \\frac{\\partial T}{\\partial t}) + k_z \\frac{\\partial}{\\partial z}( \\frac{\\partial T}{\\partial t}) + \\dot q = \\rho c_p \\frac{\\partial T}{\\partial t}}\n",
    "\\end{equation}\n",
    "\n",
    "\\pagebreak"
   ]
  },
  {
   "cell_type": "markdown",
   "metadata": {},
   "source": [
    "\\section*{Problem 2}\n",
    "\n",
    "![title](Images/HW2_2_1.png)\n",
    "\n",
    "You have designed a wall for a freezer as shown in the schematic.  The wall separates the freezer air at $T_f = -10^{\\circ}C$ from air within the room at $T_r = 20^{\\circ}C$.  The heat transfer coefficient between the freezer air and the inner wall of the freezer is $h_f = 10W/m^2K$.  The wall is composed of a $th_b = 1.0$ cm thick later of fiberglass blanket sandiwched between two $th_w=5.0$mm sheets of stainless steel.  The thermal conductivity of the fiberglass and the stainless steel are $k_b=.06$ $W/mK$ and $k_w=15$ $W/mK$, respectively.  Neglect radiation from both the inner and outer walls.\n",
    "\n",
    "\\subsection*{Part 1}\n",
    "\n",
    "Draw a resistance network from the room temperature $T_r$ to the freezer temperature $T_f$.  Calculate and label each resistor with an equation for the area normalized resistance: that is, $R''$ in $m^2K/W$.\n",
    "\n",
    "\\subsection*{Part 1 - Response}\n",
    "\n",
    "![title](Images/HW2_2_1_soln.png)\n",
    "\n",
    "\\subsection*{Part 2}\n",
    "\n",
    "Enter all inputs into the computer program of your choice in standard base SI units.  Use the computer program to calculate the total area normalized resistance ($R''_{tot}$) from the room air to the freezer air and the net heat flux into the freezer ($q''_{net}$ in $W/m^2$).\n",
    "\n",
    "\\subsection*{Part 2 - Response}"
   ]
  },
  {
   "cell_type": "code",
   "execution_count": 159,
   "metadata": {},
   "outputs": [
    {
     "name": "stdout",
     "output_type": "stream",
     "text": [
      "Total area normalized resistance: \t0.3673 (m2 K)/W\n",
      "Net heat flux: \t\t\t\t81.6697 W/m2\n"
     ]
    }
   ],
   "source": [
    "th_w = 5./1000.       # m\n",
    "th_b = 1./100.        # m\n",
    "T_r  =  20. + 273.15  # K\n",
    "T_f  = -10. + 273.15  # K\n",
    "h_r  = 10.            # W/m2K\n",
    "h_f  = 10.            # W/m2K\n",
    "k_w  = 15.            # W/mK\n",
    "k_b  = .06            # W/mK\n",
    "\n",
    "Rpp_tot = (1./h_r) + (th_w/k_w) + (th_b/k_b) + (th_w/k_w) + (1./h_f)  # (m2 K)/W\n",
    "qpp_tot = (T_r - T_f) / Rpp_tot                                       # W/(m2 K)\n",
    "\n",
    "print('Total area normalized resistance: \\t%.4f (m2 K)/W'%Rpp_tot)\n",
    "print('Net heat flux: \\t\\t\\t\\t%.4f W/m2'%qpp_tot)"
   ]
  },
  {
   "cell_type": "markdown",
   "metadata": {},
   "source": [
    "\\subsection*{Part 3}\n",
    "\n",
    "Your boss wants to make a more energy efficient freezer by reducing the rate of heat transfer to the freezer. He suggests that you increase the thickness of the stainless steel wall panels in order to accomplish this.\n",
    "\n",
    "\\subsubsection*{Part a}\n",
    "\n",
    "Calculate and plot the net heat flux to the freezer as a function of the thickness of the stainless steel walls. Make sure your plot is clear with the axes labeled (with the variable and units).\n",
    "\n",
    "\\subsubsection*{Part 3a - Response}"
   ]
  },
  {
   "cell_type": "code",
   "execution_count": 160,
   "metadata": {},
   "outputs": [
    {
     "name": "stdout",
     "output_type": "stream",
     "text": [
      "The total reduction in heat flux for an additional 10 cm of stainless steel was: 1.46 W/m2\n"
     ]
    },
    {
     "data": {
      "image/png": "[encoded data removed]",
      "text/plain": [
       "<Figure size 432x288 with 1 Axes>"
      ]
     },
     "metadata": {
      "needs_background": "light"
     },
     "output_type": "display_data"
    }
   ],
   "source": [
    "th_w_sweep     = np.linspace(.005,.055,51)     # sweep up to an additional 50 mm on each wall\n",
    "qpp_tot_sweep  = np.zeros(len(th_w_sweep))     # initialized qpp array for plotting\n",
    "\n",
    "for i in range(len(th_w_sweep)):\n",
    "    Rpp_tot = (1./h_r) + 2*(th_w_sweep[i]/k_w) + (th_b/k_b) + (1./h_f)\n",
    "    qpp_tot_sweep[i] = (T_r - T_f) / Rpp_tot\n",
    "    th_w_sweep[i] = 2*(th_w_sweep[i] - .005)   # convert thickness to increase in  overall thickness\n",
    "    \n",
    "    \n",
    "print('The total reduction in heat flux for an additional 10 cm of stainless steel was: ' \n",
    "       '%.2f W/m2'%(qpp_tot_sweep[0]-qpp_tot_sweep[50]))\n",
    "    \n",
    "plt.plot(th_w_sweep, qpp_tot_sweep)\n",
    "plt.title('Heat Flux vs Stainless Steel Wall Thickness')\n",
    "plt.xlabel('Increase in overall thickness [m]')\n",
    "plt.ylabel('Heat Flux [W/m2]')\n",
    "plt.show()"
   ]
  },
  {
   "cell_type": "markdown",
   "metadata": {},
   "source": [
    "\\subsubsection*{Part b}\n",
    "\n",
    "Calculate and plot the net heat flux to the freezer as a function of the thickness of the fiberglass. Make sure your plot is clear with the axes labeled (with the variable and units).\n",
    "\n",
    "\\subsubsection*{Part 3b - Response}"
   ]
  },
  {
   "cell_type": "code",
   "execution_count": 161,
   "metadata": {},
   "outputs": [
    {
     "name": "stdout",
     "output_type": "stream",
     "text": [
      "The total reduction in heat flux for an additional 10 cm of thermal blanket was: 66.92 W/m2\n"
     ]
    },
    {
     "data": {
      "image/png": "[encoded data removed]",
      "text/plain": [
       "<Figure size 432x288 with 1 Axes>"
      ]
     },
     "metadata": {
      "needs_background": "light"
     },
     "output_type": "display_data"
    }
   ],
   "source": [
    "th_b_sweep     = np.linspace(.01,.11,101)    # sweep up to an additional 10 cm (same as above)\n",
    "\n",
    "del qpp_tot_sweep                            # delete previous qpp array\n",
    "qpp_tot_sweep  = np.zeros(len(th_b_sweep))   # initialized qpp array for plotting\n",
    "\n",
    "\n",
    "for i in range(len(th_b_sweep)):\n",
    "    Rpp_tot = (1./h_r) + 2*(th_w/k_w) + (th_b_sweep[i]/k_b) + (1./h_f)\n",
    "    qpp_tot_sweep[i] = (T_r - T_f) / Rpp_tot\n",
    "    th_b_sweep[i] = th_b_sweep[i] - .01   # convert thickness to increase in  overall thickness\n",
    "    \n",
    "print('The total reduction in heat flux for an additional 10 cm of thermal blanket was: ' \n",
    "       '%.2f W/m2'%(qpp_tot_sweep[0]-qpp_tot_sweep[100]))\n",
    "    \n",
    "plt.plot(th_b_sweep, qpp_tot_sweep)\n",
    "plt.title('Heat Flux vs Thermal Blanket Thickness')\n",
    "plt.xlabel('Increase in overall thickness [m]')\n",
    "plt.ylabel('Heat Flux [W/m2]')\n",
    "plt.show()"
   ]
  },
  {
   "cell_type": "markdown",
   "metadata": {},
   "source": [
    "\\subsubsection*{Part c}\n",
    "\n",
    "Was increasing the thickness of the stainless steel a good idea? Justify your answer briefly.\n",
    "\n",
    "\\subsubsection*{Part 3c - Response}\n",
    "\n",
    "No, the increase of thickness in the stainless steel wall was not the best idea.  For an additional 10 cm in overall material thickness, the stainless steel reduced heat flux by roughly 1.5 W/(m2 K) while the same thickness in thermal blanket would provide over 66 W/(M2 K) of reduction in heat flux.  The thermal blanket very quickly surpasses the effectiveness of the stainless steel even at very small increases in thickness.\n",
    "\n",
    "\\subsection*{Part 4}\n",
    "\n",
    "One of the design requirements is that no condensation must form on the external surface of the freezer wall, even if the relative humidity in the room reaches 75%. This implies that the temperature of the external surface of the freezer wall must be greater than $15^{\\circ}C$. Does the original freezer wall satisfy this requirement? Calculate the external surface temperature ($^{\\circ} C$).\n",
    "\n",
    "\\subsection*{Part 4 - Response}\n",
    "\n",
    "\\begin{equation}\\notag\n",
    "\\ T_r - T_{w,o} = q''_{tot} \\frac{1}{h_r} \\rightarrow T_{w,o} = T_r - q''_{tot} \\frac{1}{h_r}\n",
    "\\end{equation}"
   ]
  },
  {
   "cell_type": "code",
   "execution_count": 162,
   "metadata": {},
   "outputs": [
    {
     "name": "stdout",
     "output_type": "stream",
     "text": [
      "Outside wall temperature: 11.83 degC\n"
     ]
    }
   ],
   "source": [
    "# introduce variable T_wo = freezer outside wall temperature\n",
    "\n",
    "T_wo = T_r - qpp_tot*(1./h_r)\n",
    "\n",
    "print('Outside wall temperature: %.2f degC'%(T_wo-273.15))"
   ]
  },
  {
   "cell_type": "markdown",
   "metadata": {},
   "source": [
    "No, the freezer does not meet the $15^{\\circ}C$ surface temperature requirement.\n",
    "\n",
    "\\subsection*{Part 5}\n",
    "\n",
    "In order to prevent condensation, you suggest placing a heater between the outer stainless steel wall and the fiberglass.\n",
    "\n",
    "\\subsubsection*{Part a}\n",
    "\n",
    "How much heat would be required to keep condensation from forming? Assume that the heater is very thin and conductive.\n",
    "\n",
    "\\subsubsection*{Part a - Response}\n",
    "\n",
    "Assumptions:\n",
    "\\begin{itemize}\n",
    "\\item Thin heater - neglect additional resistance (thickness $\\rightarrow$ 0)\n",
    "\\item Conductive heater - neglect additional resistance (k $\\rightarrow$ $\\infty$)\n",
    "\\item Heater is placed between the blanket and the wall that is to the outside of the freezer (left side of above diagram)\n",
    "\\end{itemize}\n",
    "\n",
    "Method:\n",
    "\\begin{itemize}\n",
    "\\item Impose a boundary condition of $T_{w,o} = 15^{\\circ}C$\n",
    "\\item Solve for $q''_1$ based on $T_r$ and $T_{w,o}$ \n",
    "\\item Use $q''_1$ to find the inside temperature of the outermost stainless steel wall ($T_{w,i}$)\n",
    "\\item Use $T_{w,i}$, $T_f$, and thermal resistances to determine the required heat flux, $q''_2$\n",
    "\\item The heater must supply the difference between the two heat fluxes and the difference will be applied\n",
    "\\end{itemize}"
   ]
  },
  {
   "cell_type": "code",
   "execution_count": 163,
   "metadata": {},
   "outputs": [
    {
     "name": "stdout",
     "output_type": "stream",
     "text": [
      "Total heat required from the heater: 43.57 W/(m2)\n"
     ]
    }
   ],
   "source": [
    "del T_wo           # clear previous outside wall temperature\n",
    "T_wo = 15.+273.15  # K\n",
    "\n",
    "qpp_1 = (T_r - T_wo)/(1./h_r)\n",
    "T_wi  = T_wo - qpp_1*(th_w/k_w)\n",
    "qpp_2 = (T_wi-T_f)/((th_b/k_b)+(th_w/k_w)+(1./h_r))\n",
    "\n",
    "qpp_h = qpp_2 - qpp_1\n",
    "\n",
    "print('Total heat required from the heater: %.2f W/(m2)'%qpp_h)"
   ]
  },
  {
   "cell_type": "markdown",
   "metadata": {},
   "source": [
    "\\subsubsection*{Part b}\n",
    "\n",
    "Calculate and plot the required heat flux by the heater as a function of the freezer air temperature.\n",
    "\n",
    "\\subsubsection*{Part b - Response}"
   ]
  },
  {
   "cell_type": "code",
   "execution_count": 164,
   "metadata": {},
   "outputs": [
    {
     "data": {
      "image/png": "[encoded data removed]",
      "text/plain": [
       "<Figure size 432x288 with 1 Axes>"
      ]
     },
     "metadata": {
      "needs_background": "light"
     },
     "output_type": "display_data"
    }
   ],
   "source": [
    "T_f_sweep   = np.linspace(-20,0,21)    # Sweep freezer temp to 10 degC above and below standard\n",
    "qpp_h_sweep = np.zeros(len(T_f_sweep)) # initialize vector of heater fluxes\n",
    "\n",
    "for i in range(len(T_f_sweep)):\n",
    "    qpp_2 = (T_wi-(T_f_sweep[i]+273.15))/((th_b/k_b)+(th_w/k_w)+(1./h_r))\n",
    "    qpp_h_sweep[i] = qpp_2 - qpp_1\n",
    "    \n",
    "plt.plot(T_f_sweep, qpp_h_sweep)\n",
    "plt.title('Heater Heat Flux vs Freezer Temperature')\n",
    "plt.xlabel('Freezer Temperature [degC]')\n",
    "plt.ylabel('Heater Heat Flux [W/m2]')\n",
    "plt.hlines(qpp_h,-20,0,linestyle ='dashed',label='T_f = -10 C')\n",
    "plt.legend()\n",
    "plt.show()"
   ]
  },
  {
   "cell_type": "markdown",
   "metadata": {},
   "source": [
    "\\pagebreak\n",
    "\n",
    "\\section*{Problem 3: 1D Steady State Heat Transfer}\n",
    "\n",
    "A very long, hollow, plastic cylinder of inner radius $r_{in}$ and outer radius $r_{out}$ has a uniform thermal conductivity k and experiences a uniform rate of heat generation $\\dot q$.  The inner wall is exposed to a uniform heat flux of $q''_{in}$ and the outer wall is maintained at $T_{out}$.\n",
    "\n",
    "\\subsection*{Part 1}\n",
    "\n",
    "Simplify the heat diffusion equation to find an ordinary differential equation (ODE) for T(r).\n",
    "\n",
    "\\subsection*{Part 1 - Response}\n",
    "\n",
    "General Heat Diffusion equation:\n",
    "\\begin{equation}\\notag\n",
    "\\ \\frac{1}{r} \\frac{\\partial}{\\partial r} (kr \\frac{\\partial T}{\\partial r}) + \\frac{1}{r^2} \\frac{\\partial}{\\partial \\theta} (k \\frac{\\partial T}{\\partial \\theta}) + \\frac{\\partial}{\\partial z}(k \\frac{\\partial T}{\\partial z}) + \\dot q = \\rho c_p \\frac{\\partial T}{\\partial t}\n",
    "\\end{equation}\n",
    "\n",
    "Assumptions:\n",
    "\\begin{itemize}\n",
    "\\item 1D radial heat transfer ($\\frac{\\partial T}{\\partial \\theta} = 0$, $\\frac{\\partial T}{\\partial z} = 0$)\n",
    "\\item Steady State ($\\frac{\\partial T}{\\partial t} = 0$)\n",
    "\\item Constant k throughout\n",
    "\\end{itemize}\n",
    "\n",
    "Reduced Heat Diffusion Equation:\n",
    "\\begin{equation}\\notag\n",
    "\\ \\frac{1}{r} \\frac{\\partial}{\\partial r} (kr \\frac{\\partial T}{\\partial r}) + \\frac{1}{r^2} \\frac{\\partial}{\\partial \\theta} (k (0)) + \\frac{\\partial}{\\partial z}(k (0)) + \\dot q = \\rho c_p (0)\n",
    "\\end{equation}\n",
    "\\begin{equation}\\notag\\ \\frac{k}{r} \\frac{\\partial}{\\partial r} (r \\frac{\\partial T}{\\partial r}) + \\dot q = 0\n",
    "\\end{equation}\n",
    "\\begin{equation}\\notag\n",
    "\\ \\frac{\\partial}{\\partial r} (r \\frac{\\partial T}{\\partial r}) = - \\frac{\\dot q r}{k}\n",
    "\\end{equation}\n",
    "\\begin{equation}\\notag\n",
    "\\ r \\frac{\\partial T}{\\partial r} = - \\frac{\\dot q r^2}{2k} + C_1\n",
    "\\end{equation}\n",
    "\\begin{equation}\\notag\n",
    "\\ \\frac{\\partial T}{\\partial r} = - \\frac{\\dot q r}{2k} + \\frac{C_1}{r}\n",
    "\\end{equation}\n",
    "\n",
    "\\subsection*{Part 2}\n",
    "\n",
    "Solve the ODE to find the general form of the temperature profile. (Note, you may solve by hand or with a computer program of your choice).\n",
    "\n",
    "\\subsection*{Part 2 - Response}"
   ]
  },
  {
   "cell_type": "code",
   "execution_count": 165,
   "metadata": {},
   "outputs": [
    {
     "name": "stdout",
     "output_type": "stream",
     "text": [
      "                               2\n",
      "                            q⋅r \n",
      "            2⋅C₁⋅k⋅log(r) - ────\n",
      "                             2  \n",
      "T(r) = C₂ + ────────────────────\n",
      "                    2⋅k         \n"
     ]
    }
   ],
   "source": [
    "T = symbols('T', cls=Function)            # define T as a function\n",
    "qdot, k, r, C1 = symbols('qdot k r C1')   # define these symbols\n",
    "eq = T(r).diff(r) + (q*r)/(2*k)-(C1/r)    # define the ODE\n",
    "Teq=dsolve(eq)                            # symbolically solve the ode\n",
    "pprint(Teq)"
   ]
  },
  {
   "cell_type": "markdown",
   "metadata": {},
   "source": [
    "Solution via Python symoblic library yields:\n",
    "\n",
    "\\begin{equation}\n",
    "\\ \\boxed{T(r) = C_2+C_1*\\ln{r} - \\frac{\\dot qr^2}{4k}}\n",
    "\\end{equation}\n",
    "\n",
    "\\subsection*{Part 3}\n",
    "\n",
    "The general form of the temperature profile has 2 unknown constant of integration that can be found from the boundary conditions. Write appropriate equations at the inner and outer wall that could be solved to find these two constants.\n",
    "\n",
    "\\subsection*{Part 3 - Response}\n",
    "\n",
    "Inner Wall:\n",
    "\\begin{equation}\\notag\n",
    "\\begin{aligned}\n",
    "\\ q''_{in} &= -k \\frac{\\partial T}{\\partial r} \\Big|_{r=r_{in}} \\\\\n",
    "&= \\frac{\\dot qr_{in}}{2} -k_r \\frac{C_1}{r_{in}}\n",
    "\\end{aligned}\n",
    "\\end{equation}\n",
    "\n",
    "\\begin{equation}\\notag\n",
    "\\ \\boxed{C_1 = -\\frac{r_{in}}{k_r}(q''_{in} - \\frac{\\dot qr_{in}}{2})}\n",
    "\\end{equation}\n",
    "\n",
    "Outer Wall:\n",
    "\\begin{equation}\\notag\n",
    "\\ T_o = C_2+C_1*\\ln{r_{out}} - \\frac{\\dot q{r_{out}}^2}{4k} \\rightarrow C_2 = T_o-C_1*\\ln{r_{out}} + \\frac{\\dot q{r_{out}}^2}{4k}\\\\\n",
    "\\end{equation}\n",
    "\n",
    "\\begin{equation}\\notag\n",
    "\\begin{aligned}\n",
    "\\ \\boxed{C_2 = T_o-(-\\frac{r_{in}}{k_r}(q''_{in} - \\frac{\\dot qr_{in}}{2}))*\\ln{r_{out}} + \\frac{\\dot q{r_{out}}^2}{4k}}\n",
    "\\end{aligned}\n",
    "\\end{equation}\n",
    "\n",
    "\\subsection*{Part 4}\n",
    "\n",
    "Solve for the two constants (either by hand or with a program of your choice) and find the steady-state temperature profile T(r).\n",
    "\n",
    "\\subsection*{Part 4 - Response}\n",
    "\n",
    "\\begin{equation}\\notag\n",
    "\\ \\boxed{T(r) = T_o+\\frac{r_{in}}{k_r}(q''_{in} - \\frac{\\dot qr_{in}}{2})*\\ln{r_{out}} + \\frac{\\dot q{r_{out}}^2}{4k} +\\frac{r_{in}}{k_r}(\\frac{\\dot qr_{in}}{2} - q''_{in}) \\ln{r}- \\frac{\\dot qr^2}{4k}}\n",
    "\\end{equation}"
   ]
  },
  {
   "cell_type": "markdown",
   "metadata": {},
   "source": [
    "\\subsection*{Part 5}\n",
    "\n",
    "Now assume $r_{in} = 5$ mm, $r_{out} = 25$ mm, $\\dot q = 10^6$ $W/m^3$, $q''_{in} = 100$ $W/m^2$, $T_{out} = 20^{\\circ}C$, and $k=0.5$ $W/mK$ in the problem and plot the temperature profile as a functiom of radius."
   ]
  },
  {
   "cell_type": "code",
   "execution_count": 166,
   "metadata": {},
   "outputs": [
    {
     "data": {
      "image/png": "[encoded data removed]",
      "text/plain": [
       "<Figure size 432x288 with 1 Axes>"
      ]
     },
     "metadata": {
      "needs_background": "light"
     },
     "output_type": "display_data"
    }
   ],
   "source": [
    "r_in   = .005    # m\n",
    "r_out  = .025    # m\n",
    "qdot   = 1.E6    # W/m3\n",
    "qpp_in = 100.    # W/m2\n",
    "T_out  = 20.     # degC\n",
    "k      = .5      # W/mK\n",
    "\n",
    "r   = np.linspace(.005,.025,10)\n",
    "T_r = np.zeros(len(r))\n",
    "\n",
    "for i in range(len(r)):\n",
    "    T_r[i] = (T_out + (r_in/k)*(qpp_in - qdot*r_in/2)*np.log(r_out) + qdot*r_out**2/(4*k) +\n",
    "    (r_in/k)*(qdot*r_in/2-qpp_in)*np.log(r[i]) \n",
    "    - qdot*r[i]**2/(4*k))\n",
    "\n",
    "plt.plot(r,T_r)\n",
    "plt.title('Temperature vs radial position')\n",
    "plt.xlabel('Radial position [m]')\n",
    "plt.ylabel('Temperature [degC]')\n",
    "plt.show()"
   ]
  },
  {
   "cell_type": "markdown",
   "metadata": {},
   "source": [
    "\\pagebreak\n",
    "\n",
    "\\section*{Problem 4: Fins}\n",
    "\n",
    "Your company has developed a technique for forming very small fins on a plastic substrate. The width of the fins at their base is $D=1$ mm. The ratio of the length of the fin to the base diameter is the aspect ratio, $AR=10$. The fins are arranged in a hexagonal close packed pattern. The ratio of the distance between fin centers and to the base width is the pitch ratio, $PR=2$. The conductivity of the plastic material is $k=2.8$ $W/mK$. The heat transfer coefficient between the surface of the plastic and the surrounding gas is $h=35$ $W/m^2K$. The base temperature is $T_b = 60^{\\circ}C$ and the gas temperature is $T_g = 35^{\\circ}C$.\n",
    "\n",
    "You need to evaluate whether square (side width = $D$), triangular (equilateral triangles with side length of $D$), or circular (diameter = $D$) cross-sections provide the best performance. For each case, for a $1$ $m^2$ surface:\n",
    "\n",
    "\\subsection*{Part 1}\n",
    "\n",
    "Determine the number of fins.  (Round down to the nearest whole number)\n",
    "\n",
    "\\subsection*{Part 1 - Response}\n",
    "\n",
    "The hexagonal close packed layout indicates that the fins are 2 mm apart (based on $PR = 2$.  From here, the side length of the hexagons can be calculated, and the area of one hexagon is found.  The overall surface area divided by the area of one hexagon will result in the number of total fins."
   ]
  },
  {
   "cell_type": "code",
   "execution_count": 167,
   "metadata": {},
   "outputs": [
    {
     "name": "stdout",
     "output_type": "stream",
     "text": [
      "Total number of fins available: 288675\n"
     ]
    }
   ],
   "source": [
    "# find number of total fins on surface\n",
    "\n",
    "side_hex = .002/np.sqrt(3)               # m\n",
    "area_hex = 3.*np.sqrt(3)*side_hex**2/2.  # m^2\n",
    "area_tot = 1.                            # m^2\n",
    "\n",
    "N_fins = np.floor(area_tot/area_hex)\n",
    "print('Total number of fins available: %i'%N_fins)"
   ]
  },
  {
   "cell_type": "markdown",
   "metadata": {},
   "source": [
    "\\subsection*{Part 2}\n",
    "\n",
    "Determine the resistance of the unfinned base.\n",
    "\n",
    "\\subsection*{Part 2 - Response}"
   ]
  },
  {
   "cell_type": "code",
   "execution_count": 168,
   "metadata": {},
   "outputs": [
    {
     "name": "stdout",
     "output_type": "stream",
     "text": [
      "Resistance of base with square fins:\t\t0.04017 W/K\n",
      "Resistance of base with circular fins:\t\t0.03695 W/K\n",
      "Resistance of base with triangular fins:\t0.03265 W/K\n"
     ]
    }
   ],
   "source": [
    "# set constants\n",
    "\n",
    "D      = .001   # m\n",
    "AR     = 10.\n",
    "L      = D*AR   # length of fin, m\n",
    "PR     = 2.  \n",
    "k      = 2.8    # W/mK\n",
    "h      = 35.    # W/m2 K\n",
    "T_b    = 60.    # degC\n",
    "T_g    = 35.    # degC\n",
    "A_base = 1.     # m2\n",
    "\n",
    "# find Area of each fin cross section\n",
    "A_sq  = D**2                 # square\n",
    "A_ci  = np.pi*D**2/4.        # circle\n",
    "A_tri = D**2*(np.sqrt(3)/4)  # triangle\n",
    "\n",
    "# find Area of base with each fin type\n",
    "A_base_sq  = A_base - N_fins * A_sq  # square\n",
    "A_base_ci  = A_base - N_fins * A_ci  # circle\n",
    "A_base_tri = A_base - N_fins * A_tri # triangle\n",
    "\n",
    "# find Resistance of the unfinned portion of the base\n",
    "R_base_sq  = 1./(h*A_base_sq)  # square\n",
    "R_base_ci  = 1./(h*A_base_ci)  # circle\n",
    "R_base_tri = 1./(h*A_base_tri) # triangle\n",
    "\n",
    "# print results\n",
    "print('Resistance of base with square fins:\\t\\t%.5f W/K'%R_base_sq)\n",
    "print('Resistance of base with circular fins:\\t\\t%.5f W/K'%R_base_ci)\n",
    "print('Resistance of base with triangular fins:\\t%.5f W/K'%R_base_tri)"
   ]
  },
  {
   "cell_type": "markdown",
   "metadata": {},
   "source": [
    "\\subsection*{Part 3}\n",
    "\n",
    "Calculate the resistance of one fin\n",
    "\n",
    "\\subsection*{Part 3 - Response}\n",
    "\n",
    "Assumptions:\n",
    "\\begin{itemize}\n",
    "\\item Steady State\n",
    "\\item 1D heat transfer\n",
    "\\ Adiabatic fin tip (Area of tip << Area of fin)\n",
    "\\end{itemize}\n",
    "\n",
    "Equations:\n",
    "\\begin{equation}\\notag\n",
    "\\ m = \\sqrt{\\frac{hP}{kA_c}} \\\\\n",
    "\\eta_f = \\frac{\\tanh{mL}}{mL} \\\\\n",
    "R_{t,f} = \\frac{1}{hA_f \\eta_f}\n",
    "\\end{equation}"
   ]
  },
  {
   "cell_type": "code",
   "execution_count": 169,
   "metadata": {},
   "outputs": [
    {
     "name": "stdout",
     "output_type": "stream",
     "text": [
      "Thermal resistance of one square fin:\t\t1634.10 W/K\n",
      "Thermal resistance of one circular fin:\t\t2080.60 W/K\n",
      "Thermal resistance of one triangular fin:\t2818.32 W/K\n"
     ]
    }
   ],
   "source": [
    "# create functions for solving\n",
    "\n",
    "def m(h,P,k,A_c):\n",
    "    return np.sqrt((h*P)/(k*A_c))\n",
    "\n",
    "def eff(m,L):\n",
    "    return np.tanh(m*L)/(m*L)\n",
    "\n",
    "# calculate resistance for a square fin\n",
    "P          = 4.*D              # fin perimeter\n",
    "A_surf_sq  = P*L\n",
    "Eff_sq     = eff(m(h,P,k,A_sq),L)\n",
    "R_fin_sq   = 1./(h*A_surf_sq*Eff_sq)\n",
    "\n",
    "del P\n",
    "\n",
    "# calculate resistance for a circle fin\n",
    "P          = np.pi*D              # fin perimeter\n",
    "A_surf_ci  = P*L\n",
    "Eff_ci     = eff(m(h,P,k,A_ci),L)\n",
    "R_fin_ci   = 1./(h*A_surf_ci*Eff_ci)\n",
    "\n",
    "del P\n",
    "\n",
    "# calculate resistance for a triangle fin\n",
    "P           = 3.*D                 # fin perimeter\n",
    "A_surf_tri  = P*L\n",
    "Eff_tri     = eff(m(h,P,k,A_tri),L)\n",
    "R_fin_tri   = 1./(h*A_surf_tri*Eff_tri)\n",
    "\n",
    "# print results\n",
    "print('Thermal resistance of one square fin:\\t\\t%.2f W/K'%R_fin_sq)\n",
    "print('Thermal resistance of one circular fin:\\t\\t%.2f W/K'%R_fin_ci)\n",
    "print('Thermal resistance of one triangular fin:\\t%.2f W/K'%R_fin_tri)"
   ]
  },
  {
   "cell_type": "markdown",
   "metadata": {},
   "source": [
    "\\subsection*{Part 4}\n",
    "\n",
    "Calculate the efficiency and total resistance of the finned surface\n",
    "\n",
    "\\subsection*{Part 4 - Response}\n",
    "\\begin{equation}\\notag\n",
    "\\ \\eta_o = 1-\\frac{NA_f}{A_t}(1-\\eta_f) \\\\\n",
    "R{_t,o} = \\frac{1}{\\eta_ohA_t}\n",
    "\\end{equation}"
   ]
  },
  {
   "cell_type": "code",
   "execution_count": 170,
   "metadata": {},
   "outputs": [
    {
     "name": "stdout",
     "output_type": "stream",
     "text": [
      "Shape:\t\tEfficiency\tThermal Resistance [W/K]\n",
      "\n",
      "Square\t\t0.4698\t\t4.961e-03\n",
      "Circle\t\t0.4813\t\t6.031e-03\n",
      "Triangular\t0.3987\t\t7.516e-03\n"
     ]
    }
   ],
   "source": [
    "# find total area of each finned surface\n",
    "A_tot_sq  = A_base_sq + N_fins*A_surf_sq     # square\n",
    "A_tot_ci  = A_base_ci + N_fins*A_surf_ci    # circle\n",
    "A_tot_tri = A_base_tri + N_fins*A_surf_tri  # triangle\n",
    "\n",
    "# find total finned surface efficiencies\n",
    "def Eff_tot(N,A_f,A_tot,eta_f):\n",
    "    return 1-(N*A_f)*(1-eta_f)/A_tot\n",
    "\n",
    "Eff_tot_sq  = Eff_tot(N_fins,A_surf_sq,A_tot_sq,Eff_sq)\n",
    "Eff_tot_ci  = Eff_tot(N_fins,A_surf_ci,A_tot_ci,Eff_ci)\n",
    "Eff_tot_tri = Eff_tot(N_fins,A_surf_tri,A_tot_tri,Eff_tri)\n",
    "\n",
    "# find total finned surface Resistances\n",
    "def R_tot(eta_o,h,A_tot):\n",
    "    return 1./(eta_o*h*A_tot)\n",
    "\n",
    "R_tot_sq  = R_tot(Eff_tot_sq,h,A_tot_sq)\n",
    "R_tot_ci  = R_tot(Eff_tot_ci,h,A_tot_ci)\n",
    "R_tot_tri = R_tot(Eff_tot_tri,h,A_tot_tri)\n",
    "\n",
    "#print results\n",
    "print('Shape:\\t\\tEfficiency\\tThermal Resistance [W/K]\\n')\n",
    "print('Square\\t\\t%.4f\\t\\t%.3e'%(Eff_tot_sq,R_tot_sq))\n",
    "print('Circle\\t\\t%.4f\\t\\t%.3e'%(Eff_tot_ci,R_tot_ci))\n",
    "print('Triangular\\t%.4f\\t\\t%.3e'%(Eff_tot_tri,R_tot_tri))"
   ]
  },
  {
   "cell_type": "markdown",
   "metadata": {},
   "source": [
    "\\subsection*{Part 5}\n",
    "\n",
    "Calculate the heat transfer rate from the finned surface\n",
    "\n",
    "\\subsection*{Part 5 - Response}\n",
    "\n",
    "\\begin{equation}\\notag\n",
    "\\ q_t = hA_t \\eta_o \\theta_b \\\\\n",
    "\\theta_b = T_b-T_{\\infty}\n",
    "\\end{equation}"
   ]
  },
  {
   "cell_type": "code",
   "execution_count": 171,
   "metadata": {},
   "outputs": [
    {
     "name": "stdout",
     "output_type": "stream",
     "text": [
      "Heat transfer rate with square fins:\t\t5038.83 W\n",
      "Heat transfer rate with circular fins:\t\t4145.26 W\n",
      "Heat transfer rate with triangular fins:\t3326.33 W\n"
     ]
    }
   ],
   "source": [
    "# transfer rate from each finned surface\n",
    "\n",
    "def qt(h,A_tot,eta_o,theta_b):\n",
    "    return h*A_tot*eta_o*theta_b\n",
    "\n",
    "theta_b = 60-35\n",
    "\n",
    "qt_sq  = qt(h,A_tot_sq,Eff_tot_sq,theta_b)\n",
    "qt_ci  = qt(h,A_tot_ci,Eff_tot_ci,theta_b)\n",
    "qt_tri = qt(h,A_tot_tri,Eff_tot_tri,theta_b)\n",
    "\n",
    "# print all solutions\n",
    "print('Heat transfer rate with square fins:\\t\\t%.2f W'%qt_sq)\n",
    "print('Heat transfer rate with circular fins:\\t\\t%.2f W'%qt_ci)\n",
    "print('Heat transfer rate with triangular fins:\\t%.2f W'%qt_tri)"
   ]
  },
  {
   "cell_type": "markdown",
   "metadata": {},
   "source": [
    "\\pagebreak\n",
    "\n",
    "\\section*{Problem 5: Extended Surfaces - Advanced}\n",
    "\n",
    "A rod is extruded in a materials processing system with a diameter of $D=5$ cm at a velocity of $u=0.75$ $ms^{-1}$. The material enters at $T_{in}=300$ $K$ and has a thermal conductivity of $k=40$ $W/mK$ and thermal diffusivity of $\\alpha = .001$ $m^2 s^{-1}$. In order to precisely control the temperature of the material, the oven wall is very close to the outer diameter of the extruded material and the oven wall temperature distribution is carefully controlled. The gap between the oven wall and the material is $th=0.6$ $mm$ and the oven-to-material gap is filled with gas that has a thermal conductivity of $k_g=.03$ $W/mK$. Radiation can be neglected in favor of convection through the gas from the oven wall to the material.  For this situation, the heat flux experienced by the material surface can be approximately modeled according to:\n",
    "\\begin{equation}\n",
    "\\ q''_{conv} = \\frac{k_g}{th}(T_w-T)\n",
    "\\end{equation}\n",
    "where $T_w$ and $T$ are the oven wall and material temperatures at that position. Note, this is approximating convection in the gap as a conduction: $R_{cond} = \\frac{k_g}{th} = R_{conv} = \\frac{1}{h_{conv}} \\rightarrow h_{conv} = \\frac{k_g}{th}$. The oven wall temperature may vary with position: $T_w(x)$. Assume that the oven can be approximated as being infinitely long.\n",
    "\n",
    "\\subsection*{Part 1}\n",
    "\n",
    "Is an extended surface model appropriate for this problem? Define and calculate a Biot number to compare internal temperature gradients to external temperature gradients.\n",
    "\n",
    "\\subsection*{Part 1 - Response}\n",
    "\n",
    "As shown in the code below, because the Biot number << 1, this is a reasonable approach to take for this problem."
   ]
  },
  {
   "cell_type": "code",
   "execution_count": 172,
   "metadata": {},
   "outputs": [
    {
     "name": "stdout",
     "output_type": "stream",
     "text": [
      "Biot Number: 0.0156\n"
     ]
    }
   ],
   "source": [
    "# assing constants from problem statement\n",
    "D     = .05    # m\n",
    "u     = .75    # m/s\n",
    "T_in  = 300.   # K\n",
    "k     = 40.    # W/mK\n",
    "alpha = 0.001  # m2/s\n",
    "th    = .0006  # m\n",
    "k_g   = 0.03   # W/mK\n",
    "\n",
    "# find characteristic length\n",
    "L_c   = D/4. \n",
    "\n",
    "# find heat transfer coefficient\n",
    "h     = k_g/th \n",
    "\n",
    "# find and display Biot number\n",
    "Bi    = h*L_c/k \n",
    "print('Biot Number: %.4f'%Bi)"
   ]
  },
  {
   "cell_type": "markdown",
   "metadata": {},
   "source": [
    "\\subsection*{Part 2}\n",
    "Assume that the extended surface model is appropriate, use an energy balance on a coin-shaped differential element (of length $dx$ and circular cross-section) and Taylor Series Expansions to symbolically derive an ordinary differential equation that could be solved for $T(x)$. Recall that the rod is moving at velocity $u$ through the system - at a position along the rod, the energy carried by the moving material is $(\\rho u A_c cT)_x$.\n",
    "\n",
    "\\subsection*{Part 2 - Response}\n",
    "\n",
    "\\begin{equation}\\notag\n",
    "\\ \\dot E_{in} - \\dot E_{out} = \\dot E_{st}\n",
    "\\end{equation}\n",
    "\n",
    "\\begin{equation}\\notag\n",
    "\\ \\dot E_{in} - \\dot E_{out} = \\dot E_{st}\n",
    "\\end{equation}"
   ]
  },
  {
   "cell_type": "code",
   "execution_count": null,
   "metadata": {},
   "outputs": [],
   "source": []
  },
  {
   "cell_type": "markdown",
   "metadata": {},
   "source": [
    "Now assume the oven wall temperature varies with position $x$ according to:\n",
    "\\begin{equation}\\notag\n",
    "\\ T_w = T_f - (T_f-T_{w,0}) exp(\\frac{-x}{L_c})\n",
    "\\end{equation}\n",
    "\n",
    "where $T_{w,0}$ is the temperature of the wall at the inlet (at $x=0$), $T_f$is the temperature of the wall far from the inlet, and $L_c$ is a characteristic length that dictates how quickly the oven wall temperature approaches $T_f$.\n",
    "\n",
    "\\subsection*{Part 3}\n",
    "Assuming the rod is infinitely long, $T(x=0) = T_{w,0}$, and the functional form of $T_w(x)$ shown above, solve the ODE for the axial temperature profile $T(x)$. (Feel free to use software tools to help solve the ODE).\n",
    "\n",
    "\\subsection*{Part 3 - Response}"
   ]
  },
  {
   "cell_type": "code",
   "execution_count": null,
   "metadata": {},
   "outputs": [],
   "source": []
  },
  {
   "cell_type": "markdown",
   "metadata": {},
   "source": [
    "\\subsection*{Part 4}\n",
    "\n",
    "Assuming that $T_{w,0}=500$ $K$, $T_f=1000$ $K$, and $L_c=1$ m, plot the temperature of the rod and the wall as function of position for $0 < x < 20$ m. On a separate graph, plot the temperature gradient experienced by the material as a function of position for $0 < x < 20$ m."
   ]
  },
  {
   "cell_type": "code",
   "execution_count": null,
   "metadata": {},
   "outputs": [],
   "source": []
  }
 ],
 "metadata": {
  "kernelspec": {
   "display_name": "Python 3",
   "language": "python",
   "name": "python3"
  },
  "language_info": {
   "codemirror_mode": {
    "name": "ipython",
    "version": 3
   },
   "file_extension": ".py",
   "mimetype": "text/x-python",
   "name": "python",
   "nbconvert_exporter": "python",
   "pygments_lexer": "ipython3",
   "version": "3.8.3"
  }
 },
 "nbformat": 4,
 "nbformat_minor": 4
}
