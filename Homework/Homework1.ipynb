{
 "cells": [
  {
   "cell_type": "code",
   "execution_count": 1,
   "metadata": {},
   "outputs": [],
   "source": [
    "# First import all required Python libraries for this homework\n",
    "import numpy as np\n",
    "import matplotlib.pyplot as plt\n",
    "\n",
    "# Definte interpolation function for property tables\n",
    "\n",
    "def interpolate(x1,y1,x2,y2,x):\n",
    "    y = (y2 - y1)/(x2 - x1) * (x-x1) + y1\n",
    "    return y"
   ]
  },
  {
   "cell_type": "markdown",
   "metadata": {},
   "source": [
    "# ME505 Homework 1\n",
    "\n",
    "## Problem 1 - Identifying Heat Transfer Pathways; Energy Balances\n",
    "\n",
    "### Problem 1, Part 1\n",
    "\n",
    "Warqa pastry (sometimes referred to as \"brick pastry\") is an essential Moroccan ingredient, used to make a number of sweet and savory pastries and dishes. Thin sheets of pastry are cooked by \"painting\" the batter onto a hot pan.\n",
    "\n",
    "A pot of water is brought to boil with a metal pan placed on top. The top surface of the pan is exposed to ambient conditions (air and walls at  𝑇𝑠𝑢𝑟𝑟 ). Once the system reaches a steady temperature, thin layers of the batter are painted on the pan surface one at a time, then removed and stacked to form the pastry. For now, let's neglect the cooking process and focus on the steady-state temperatures in the system prior to painting the batter.\n",
    "\n",
    "We'd like to understand the steady state temperature on the top and bottom surface of the pan.\n",
    "\n",
    "<img src=\"./Images/HW1_1_1.png\" style=\"width: 200px;\"/>\n",
    "\n",
    "1.1.1 Draw a control volume around the pan.  Include arrows to indicate heat transfer mechanisms to/from the pan.\n",
    "\n",
    "> The drawing below shows that the pan accepts heat from the convective heat transfer from the moving steam and conductive heat transfer from the pot which supports it.  Heat losses occur through convection to the surrounding air off of the top of the pan.  Incident radiation is accepted and radiation is emitted between the top of the pan and the surroundings.  Radiation from the bottom of the pan is ignored. <img src=\"./Images/HW1_1_1_soln.png\" style=\"width: 300px;\"/>\n",
    "\n",
    "1.1.2. Evaluate an energy balance on the pan including the appropriate rate equations for each mechanism of heat transfer. List all assumptions as you analyze the energy balance.\n",
    "\n",
    "> Assumptions:\n",
    "> - The system is in steady state\n",
    "> - The surroundings are much larger than the pan\n",
    "> - Surface emissivity = surface absorptivity\n",
    "> - Free stream temperature $T_{\\infty}  = T_{surr}$\n",
    "> - 1-D convection through the pan \n",
    "> - The pan is thin compared to the diameter, allowing radiation from the sides to be ignored\n",
    "> - $A_{steam}=$ steam contact area with the bottom of the pan\n",
    "> - $A_{pot}=$ contact area between the pot and the pan\n",
    "> - $A_{pan}=$ surface area of the pan ($A_{pan}=A_{steam}+A_{pot}$)\n",
    "> - Steam exists as a saturated vapor at standard pressure, so that $T_{steam}=100^{\\circ}C$\n",
    "> - The surface area between the pot and pan is very small, and can be ignored\n",
    ">\n",
    ">\n",
    "> Equations:\n",
    "> \\begin{equation}\n",
    "\\dot E_{in} = \\dot E_{out}\n",
    "\\end{equation}\n",
    "> \\begin{equation}\n",
    "q_{conv,steam} + q_{cond,pot} = q_{conv,air} + q_{rad,surr}\n",
    "\\end{equation}\n",
    "> \\begin{equation}\n",
    "q\"_{conv,steam}A_{steam} + q\"_{cond,pot}A_{pot} = q\"_{conv,air}A_{pan} + q\"_{rad,surr}A_{pan}\n",
    "\\end{equation}\n",
    "> \\begin{equation}\n",
    "h_{steam}A_{steam}(T_{pan,bott} - T_{steam}) = h_{air}A_{pan}(T_{pan,top}-T_{\\infty}) + \\epsilon \\sigma (T_{pan,top}^4 - T_{surr}^4)\n",
    "\\end{equation}\n",
    "> \\begin{equation}\n",
    "h_{steam}A_{steam}(T_{pan,bott} - 100^{\\circ}C) = h_{air}A_{pan}(T_{pan,top}-T_{surr}) + \\epsilon \\sigma (T_{pan,top}^4 - T_{surr}^4)\n",
    "\\end{equation}\n",
    "\n",
    "1.1.3. Find a relation between the surface temperature on the top and bottom surfaces of the pan based on the concept of thermal resistances.\n",
    "\n",
    "> Using the stated 1D thermal conduction through the pan, we will find the following relation:\n",
    "> \\begin{equation}\n",
    "T_{pan,bottom} - T_{pan,top}= q_{total} \\frac{L}{kA_{pan}}\n",
    "\\end{equation}\n",
    "> Where k = thermal resistance of the pan, L = thickness of the pan, and $q_{total} = \\dot E_{in} = \\dot E_{out}$\n",
    "\n",
    "1.1.4. Identify any additional data (properties, dimensions, etc.) are needed to solve this equation.\n",
    "\n",
    "> There are still many unknowns for this problem, including the following:\n",
    "> - Convective heat transfer coefficient for the top and bottom of the pan (h_{air}, h_{steam})\n",
    "> - Dimensions of the pan (radius, height)\n",
    "> - Properties of the pan (thermal conductivity)\n",
    "> - Temperature of the surroundings\n",
    "\n",
    "### Problem 1, Part 2\n",
    "\n",
    "NASA’s Parker solar probe, which is currently flying to the Sun, is enabled by a collection of some of the best heat transfer technologies. The surface facing the sun is a thermal protection system that needs to maximize the reflection of the sunlight and survive high temperature. For this purpose, the side facing the sun is coated with a special opaque coating with a high reflectivity to sunlight of $\\rho _s$ and high emissivity $\\epsilon _c$ for the radiation emitted in the longer wavelength range corresponding to its operating temperature. Sunlight of intensity $G_{Sun}$ is incident on the heat shield surface. All other surfaces have emissivities of $\\epsilon _o$and are exposed to deep space, which you may assume is at  0𝐾 . Assume the solar probe surface is at $T_s$ (spatially uniform).\n",
    "\n",
    "<img src=\"./Images/HW1_1_2.png\" style=\"width: 400px;\"/>\n",
    "\n",
    "We'd like to understand the steady state temperature of the solar probe. To do so:\n",
    "\n",
    "1.2.1. Draw your control volume.  \n",
    "\n",
    "1.2.2. Draw and label arrows to indicate heat transfer mechanisms.\n",
    "\n",
    "> The control volume with energy flows in and out are shown below.  One arrow is used to represent the energy lost by radiation from the surface area of the probe that does not include the heat shield.\n",
    "> <img src=\"./Images/HW1_1_2_soln.png\" style=\"width: 400px;\"/>\n",
    "\n",
    "1.2.3. Evaluate an energy balance including the appropriate rate equations for each mechanism of heat transfer. List all assumptions as you analyze the energy balance. \n",
    "\n",
    "> Assumptions:\n",
    "> - The system is in steady state\n",
    "> - Different but constant temperature across the heat shield and body of the probe\n",
    "> - Heat shield is opaque\n",
    ">\n",
    "> Equations:\n",
    "> \\begin{equation}\n",
    "\\dot E_{in} = \\dot E_{out}\n",
    "\\end{equation}\n",
    "> \\begin{equation}\n",
    "q_{abs,shield} = q_{emit,shield} + q_{emit,body}\n",
    "\\end{equation}\n",
    "> \\begin{equation}\n",
    "\\alpha GA_{shield} = \\epsilon_cT_{shield}^4A_{shield} + \\epsilon_oT_s^4A_{body}\n",
    "\\end{equation}\n",
    "> \\begin{equation}\n",
    "(1-\\rho_s) GA_{shield} = \\epsilon_cT_{shield}^4A_{shield} + \\epsilon_oT_s^4A_{body}\n",
    "\\end{equation}\n",
    "\n",
    "\n",
    "1.2.4. Identify any additional data (properties, dimensions, etc.) are needed to solve this equation.\n",
    "\n",
    "> The following information would be helpful to numerically solve the problem:\n",
    "> - Dimension of the heat shield (Area)\n",
    "> - Properties of the heat shield (reflectivity, emissivity)\n",
    "> - Intensity of the Sun\n",
    "> - Surface area of the probe body\n",
    "> - Temperature of the solar probe $T_s$\n",
    "\n",
    "## Problem 2 - Conduction and Convection\n",
    "\n",
    "A common way to measure the heat transfer coefficient  ℎ  involves heating one end of a metal rod and exposing the other end to convection. Multiple thermocouples along the length of the rod quantify the heat flow rate and can be extrapolated to estimate the surface temperature. The cylindrical surface of the rod is well insulated.\n",
    "\n",
    "Consider the schematic below of one such experiment. The temperature is measured at 3 points along a 1 cm diameter, 14 cm long aluminum rod [T(2cm)=$120^{\\circ}$C,  $T(7cm)=110^{\\circ} C$, and  T(12cm)=$100^{\\circ}$C]. The left end is exposed to convection with a freestream temperature of $20^{\\circ}$C.\n",
    "\n",
    "<img src=\"./Images/HW1_2_1.png\" style=\"width: 400px;\"/>\n",
    "\n",
    "2.1. Estimate the thermal conductivity of the aluminum. Cite your source.\n",
    "\n",
    "> From Engineering Toolbox online, $k_{aluminum} = 240 \\frac{W}{m K}$\n",
    ">\n",
    "> Full citation: \n",
    ">\n",
    "> Engineering ToolBox, (2005). Thermal Conductivity of Metals, Metallic Elements and Alloys. [online] Available at: https://www.engineeringtoolbox.com/thermal-conductivity-metals-d_858.html [Jan 25, 2021].\n",
    "\n",
    "2.2. Calculate the heat flow through the aluminum rod in W.\n",
    "\n",
    "> Since there is only conduction through the rod, it can be solved using Fourier's Law:  $q=-kA\\frac{dT}{dx}$\n",
    "> \\begin{equation}\n",
    "q = - (240 W/mK)(\\frac{\\pi (.01 m)^2}{4})(\\frac{100C-120C}{12 m-2 m}) = 3.77 W\n",
    "\\end{equation}"
   ]
  },
  {
   "cell_type": "code",
   "execution_count": 2,
   "metadata": {},
   "outputs": [
    {
     "name": "stdout",
     "output_type": "stream",
     "text": [
      "The heat flow through the rod is 3.77 W\n"
     ]
    }
   ],
   "source": [
    "k = 240 # W/mK\n",
    "D = .01 # m\n",
    "T1 = 120 # C\n",
    "T2 = 100 # C\n",
    "x1 = .02 # m\n",
    "x2 = .12 # m\n",
    "\n",
    "A = np.pi*D**2/4\n",
    "\n",
    "q = -1*k*A*(T2-T1)/(x2-x1)\n",
    "\n",
    "print(\"The heat flow through the rod is %.2f W\"%q)"
   ]
  },
  {
   "cell_type": "markdown",
   "metadata": {},
   "source": [
    "2.3. Estimate the surface temperature of the rod at  𝑥=14  cm.\n",
    "> The equation can be rearranged to solve for the Temperature at the end of the rod as follows:\n",
    "> \\begin{equation}\n",
    "T3 = \\frac{-q}{kA}(x3-x2)+T2\n",
    "\\end{equation}\n",
    "> \\begin{equation}\n",
    "T3 = \\frac{-(3.77 W)}{(240 W/mK)(\\frac{\\pi (.01 m)^2}{4})}(.14 m - .12 m) + 100C = 96C\n",
    "\\end{equation}"
   ]
  },
  {
   "cell_type": "code",
   "execution_count": 3,
   "metadata": {},
   "outputs": [
    {
     "name": "stdout",
     "output_type": "stream",
     "text": [
      "The Temperature at the end of the rod is 96.00 degC\n"
     ]
    }
   ],
   "source": [
    "x3 = .14 # m\n",
    "\n",
    "T3 = -1*q/(k*A)*(x3 - x2)+T2\n",
    "\n",
    "print(\"The Temperature at the end of the rod is %.2f degC\"%T3)"
   ]
  },
  {
   "cell_type": "markdown",
   "metadata": {},
   "source": [
    "2.4. Calculate the heat transfer coefficient  ℎ\n",
    "> The heat transfer coefficient is found through the energy equation with the end of the rod as our control surface.  \n",
    "> \\begin{equation}\n",
    "\\dot E_{in} = \\dot E_{out}\n",
    "\\end{equation}\n",
    "> \\begin{equation}\n",
    "q_{in} = q_{out}\n",
    "\\end{equation}\n",
    "> \\begin{equation}\n",
    "q_{in} = 3.77 W = hAdT\n",
    "\\end{equation}\n",
    "> \\begin{equation}\n",
    "h = \\frac{q}{A(T_3 - T_{\\infty})}\n",
    "\\end{equation}"
   ]
  },
  {
   "cell_type": "code",
   "execution_count": 4,
   "metadata": {},
   "outputs": [
    {
     "name": "stdout",
     "output_type": "stream",
     "text": [
      "The heat transfer coefficient is 631.58 W/m2 K\n"
     ]
    }
   ],
   "source": [
    "T_inf = 20 # C\n",
    "\n",
    "h = q/(A*(T3-T_inf))\n",
    "\n",
    "print(\"The heat transfer coefficient is %.2f W/m2 K\"%h)"
   ]
  },
  {
   "cell_type": "markdown",
   "metadata": {},
   "source": [
    "2.5. On one experiment, you forget to include the insulation along the perimeter of the rod, so the perimeter is exposed to convection as well. Sketch the temperature profile along the axis of the rod ( 𝑇(𝑥) ) for this case in comparison to the given data for the insulated case.\n",
    "\n",
    "> Because the insulation provides a single path of heat transfer, the basic 1-D conduction principles apply.  With the jacket removed, heat will be lost down the axis of the rod as well as to the forced convection around it.  Because of this, there will be greater heat transfer near the base where the heat is added.  As you travel down the axis, the heat transfer will be less since the $\\delta T$ decreases towards the end of the rod.  A representation can be seen below (Approximate, not actually calculated)>\n",
    "> <img src=\"./Images/HW1_2_1_soln.png\" style=\"width: 400px;\"/>'\n",
    "\n",
    "## Problem 3 - Convection - Internal Flow\n",
    "\n",
    "<img src=\"./Images/HW1_3_1.png\" style=\"width: 200px;\"/>\n",
    "\n",
    "Hot water through a coil of tubing is submerged in an ice bath. The tubing has an internal diameter of  D=10  mm. The fluid enters at temperature  $T_{m,i}=95^{\\circ}C$ and must exit at $T_{m,o}=5^{\\circ}C$. Assume the surface of the thin-walled pipe is uniformly at  $T_o=0^{\\circ}C$ and the flow is fully developed. You may assume the section of the tubing outside the bath is well insulated. \n",
    "\n",
    "3.1. The fluid properties for pipe flow are evaluated at  $\\overline{T_m}=\\frac{T_{m,i}+T_{m,o}}{2}$ . Use saturated water tables to find the thermal conductivity, viscosity, density, and heat capacity of water at  $\\overline{T_m}$. Cite your source.\n",
    "\n",
    "> The data in the next code section is an interpolation of table A.6 from the textbook (full citation below)\n",
    ">\n",
    "> Incropera, F. P. (2007). Fundamentals of heat and mass transfer /: Frank P. Incropera ... [et al.]. 6th ed. pg 979, Table A.6 Hoboken, NJ: John Wiley."
   ]
  },
  {
   "cell_type": "code",
   "execution_count": 5,
   "metadata": {},
   "outputs": [
    {
     "name": "stdout",
     "output_type": "stream",
     "text": [
      "Properties of water at 323.15 K:\n",
      "\n",
      "Thermal conductivity:\t 0.643     W/mK\n",
      "Viscosity:\t\t 5.461e-04 Ns/m2\n",
      "Density:\t\t 0.988     kg/m3\n",
      "Heat capacity:\t\t 4.181     kJ/kg K\n"
     ]
    }
   ],
   "source": [
    "# Boundary conditions from the problem\n",
    "\n",
    "T_i = 95 + 273.15 # K\n",
    "T_o =  5 + 273.15 # K\n",
    "\n",
    "T_m = (T_i + T_o) / 2\n",
    "\n",
    "# From saturated water tables, T_lo = 320 K\n",
    "\n",
    "T_lo   = 320.     # K\n",
    "k_lo   = 640E-3   # W/mK\n",
    "mu_lo  = 577E-6   # Ns/m2\n",
    "rho_lo = 1./1.011 # kg/m3\n",
    "cp_lo  = 4.180    # kJ/kg K\n",
    "\n",
    "# From saturated water tables, T_hi = 325 K\n",
    "\n",
    "T_hi   = 325.     # K\n",
    "k_hi   = 645E-3   # W/mK\n",
    "mu_hi  = 528E-6   # Ns/m2\n",
    "rho_hi = 1./1.013 # kg/m3\n",
    "cp_hi  = 4.182    # kJ/kg K\n",
    "\n",
    "# By interpolation, the values at Tm are found\n",
    "\n",
    "k_m   = interpolate(T_lo,k_lo,T_hi,k_hi,T_m)\n",
    "mu_m  = interpolate(T_lo,mu_lo,T_hi,mu_hi,T_m)\n",
    "rho_m = interpolate(T_lo,rho_lo,T_hi,rho_hi,T_m)\n",
    "cp_m  = interpolate(T_lo,cp_lo,T_hi,cp_hi,T_m)\n",
    "\n",
    "print('Properties of water at %.2f K:'%(T_m))\n",
    "\n",
    "print('\\nThermal conductivity:\\t %.3f     W/mK'%(k_m))\n",
    "print('Viscosity:\\t\\t %.3e Ns/m2'%(mu_m))\n",
    "print('Density:\\t\\t %.3f     kg/m3'%(rho_m))\n",
    "print('Heat capacity:\\t\\t %.3f     kJ/kg K'%(cp_m))"
   ]
  },
  {
   "cell_type": "markdown",
   "metadata": {},
   "source": [
    "3.2. The cutoff between laminar and turbulent flow for pipes is  $Re_D=2300$. Calculate cutoff mass flow rate between laminar and turbulent flow ($\\dot{m_c}$  in kg/s).\n",
    "\n",
    "> Reynolds Number is defined as follows in equation 8.1 from the textbook by Incropera cited previously:\n",
    "> \\begin{equation}\n",
    "Re = \\frac{\\rho u d}{\\mu}\n",
    "\\end{equation}\n",
    "> Once this is used to find the mean velocity, the mean mass flow rate can be calculated using the cross sectional area of the pipe and the mean density of the water."
   ]
  },
  {
   "cell_type": "code",
   "execution_count": 6,
   "metadata": {},
   "outputs": [
    {
     "name": "stdout",
     "output_type": "stream",
     "text": [
      "The cutoff mass flow rate is 0.00987 kg/s with a flow velocity of 127.15 m/s\n"
     ]
    }
   ],
   "source": [
    "Re = 2300.\n",
    "d  =  .01   # m\n",
    "\n",
    "u = Re * mu_m / (rho_m*d)  # m/s\n",
    "\n",
    "mdot_c = u * (np.pi*(d**2)/4) * rho_m\n",
    "\n",
    "print('The cutoff mass flow rate is %.5f kg/s with a flow velocity of %.2f m/s'%(mdot_c,u))"
   ]
  },
  {
   "cell_type": "markdown",
   "metadata": {},
   "source": [
    "Now assume a mass flow rate of 50% the cutoff between laminar and turbulent flow ($\\dot{m}=0.5\\dot{m_c}$):\n",
    "\n",
    "3.3. Calculate the total energy lost by the hot water as it flows through the pipe (in W). (Do not use h to calculate this value)\n",
    "\n",
    "> The total energy can be estimated using the mean heat capacity, mean density, and change in temperature.\n",
    ">\n",
    "> \\begin{equation}\n",
    "q = \\dot m c \\Delta T\n",
    "\\end{equation}"
   ]
  },
  {
   "cell_type": "code",
   "execution_count": 7,
   "metadata": {},
   "outputs": [
    {
     "name": "stdout",
     "output_type": "stream",
     "text": [
      "The heat transferred from the hot water is 1856.24 W\n"
     ]
    }
   ],
   "source": [
    "mdot = .5*mdot_c\n",
    "\n",
    "q = mdot * cp_m *(T_i - T_o) * 1000 \n",
    "\n",
    "print('The heat transferred from the hot water is %.2f W'%q)"
   ]
  },
  {
   "cell_type": "markdown",
   "metadata": {},
   "source": [
    "3.4. For fully developed laminar flow, the $Nu_D = \\frac{hD}{k_f}$ is a constant. Assuming the ice bath maintains the surface temperature of the pipe at $T_s = T_o$ uniformly: $Nu_D = 3.66$ Calculate the heat transfer coefficient h.\n",
    "> Rearranging the above equation yields the below equation. This will be assigned the units of $W/m^2 K$\n",
    ">\n",
    "> \\begin{equation}\n",
    "h = \\frac{Nu_D * k_f}{D}\n",
    "\\end{equation}"
   ]
  },
  {
   "cell_type": "code",
   "execution_count": 8,
   "metadata": {},
   "outputs": [
    {
     "name": "stdout",
     "output_type": "stream",
     "text": [
      "Heat transfer coefficient in the pipe is 235.39 W/m2 K\n"
     ]
    }
   ],
   "source": [
    "Nu_D = 3.66\n",
    "\n",
    "h = Nu_D*k_m/d\n",
    "\n",
    "print('Heat transfer coefficient in the pipe is %.2f W/m2 K'%h)"
   ]
  },
  {
   "cell_type": "markdown",
   "metadata": {},
   "source": [
    "3.5. Determine the length of the pipe required to lower the mean temperature of the fluid to $5^{\\circ}$C. For internal flow with a constant surface temperature, Newton's law of cooling uses the log-mean temperature difference to find the heat transferred from the surface to the fluid:\n",
    "\n",
    "  - $q=hA\\Delta T_{lm}$ where:\n",
    "    - $\\Delta T_{lm}=\\frac{\\Delta T_1 - \\Delta T_2}{\\ln{\\frac{\\Delta T_1}{\\Delta T_2}}}$\n",
    "    - $\\Delta T_1=T_s-T_{m,i}$\n",
    "    - $\\Delta T_2 = T_s-T_{m,o}$\n",
    "    \n",
    "> Solving for A and dividing by the perimeter of the tube will supply the total surface area required to generate the heat loss calculated from part 3.\n",
    ">\n",
    "> \\begin{equation}\n",
    "A = \\frac{q}{\\Delta T_{lm} h}\n",
    "\\end{equation}"
   ]
  },
  {
   "cell_type": "code",
   "execution_count": 9,
   "metadata": {},
   "outputs": [
    {
     "name": "stdout",
     "output_type": "stream",
     "text": [
      "The pipe length must be 8.21 m long in order to lower the hot water temperature to 5C\n"
     ]
    }
   ],
   "source": [
    "T_s = 0 + 273.15  # K\n",
    "dT1 = T_s - T_i\n",
    "dT2 = T_s - T_o\n",
    "dT_lm = (dT1 - dT2)/(np.log(dT1/dT2))\n",
    "\n",
    "A = q/(dT_lm*h)\n",
    "\n",
    "length = A/(np.pi*d)\n",
    "\n",
    "print('The pipe length must be %.2f m long in order to lower the hot water temperature to 5C'%(length*-1.))\n",
    "\n",
    "# The value is multiplied by -1 because of the sign convention compared to part 3\n",
    "# (heat from the fluid vs heat from the surface)"
   ]
  },
  {
   "cell_type": "markdown",
   "metadata": {},
   "source": [
    "3.6. At a particular point along the flow, the mean temperature is $50^{\\circ}$C, calculate the local heat flux ($q''$ in $W/m^2$) from the surface to the fluid at this point along the flow. Note, Newton's law of cooling applies as $q''=h(T_s-T_m(x))$.\n",
    "\n",
    "> The negative result for heat flux indicates that heat is leaving the hot water and passing into the cold ice reservoir"
   ]
  },
  {
   "cell_type": "code",
   "execution_count": 10,
   "metadata": {},
   "outputs": [
    {
     "name": "stdout",
     "output_type": "stream",
     "text": [
      "Local heat flux when Tm = 50C is: -11769.65 W/m2\n"
     ]
    }
   ],
   "source": [
    "q_flux = h*(T_s - (50+273.15))\n",
    "\n",
    "print('Local heat flux when Tm = 50C is: %.2f W/m2'%q_flux)"
   ]
  },
  {
   "cell_type": "markdown",
   "metadata": {},
   "source": [
    "## Problem 4 - Radiation and Convection\n",
    "\n",
    "Consider a vertical metal plate (0.5 m height and 0.5 m width) suspended in ambient air at $22^{\\circ}$C. The plate has an emissivity of 1 and the surroundings are also at $22^{\\circ}$C. Both surfaces of the plate are exposed to both radiation and convection.\n",
    "\n",
    "Assuming an average surface temperature of $32^{\\circ}$C:\n",
    "\n",
    "4.1. Estimate the air properties at the film temperature $T_f = \\frac{T_s+T_{\\infty}}{2}$.\n",
    "\n",
    "> From part 2, the following properties are necessary:\n",
    "> - thermal diffusivity, $\\alpha = 22.5E-6$ $m/s^2$\n",
    "> - kinematic viscosity, $v = 15.89E-6$ $m/s^2$\n",
    "> - thermal conductivity, $k = 26.3E-3$ $W/mK$\n",
    ">\n",
    "> These values are found from the the texbook table A.4.  Because the film temperature is 300.15 K, the properties can be approximated as T=300 K\n",
    ">\n",
    "> Incropera, F. P. (2007). Fundamentals of heat and mass transfer /: Frank P. Incropera ... [et al.]. 6th ed. pg 941, Table A.4 Hoboken, NJ: John Wiley."
   ]
  },
  {
   "cell_type": "code",
   "execution_count": 11,
   "metadata": {},
   "outputs": [
    {
     "name": "stdout",
     "output_type": "stream",
     "text": [
      "Film temperature is estimated to be 300.15 K\n"
     ]
    }
   ],
   "source": [
    "T_s   = 32 + 273.15 # K\n",
    "T_inf = 22 + 273.15 # K\n",
    "\n",
    "T_f = (T_s + T_inf)/2\n",
    "\n",
    "print('Film temperature is estimated to be %.2f K'%T_f)"
   ]
  },
  {
   "cell_type": "markdown",
   "metadata": {},
   "source": [
    "4.2. Estimate the convection losses.\n",
    "  - The $\\overline{Nu}_L = \\frac{\\overline{h}L}{k}$ for free convection depends on the Rayleigh number\n",
    "  - $Ra_L=\\frac{g\\beta (T_s-T_{\\infty})L^3}{v\\alpha}$, where g is the acceleration due to gravity (9.81 $m/s^2$) and $\\beta = \\frac{1}{T_f}$ for an ideal gas) as $\\overline{Nu}_L=.59Ra_L^{1/4}$.\n",
    "  \n",
    "> \\begin{equation}\n",
    "q = hA (T_s - T_a)\n",
    "\\end{equation}\n",
    "> \\begin{equation}\n",
    "h = Nu k / L\n",
    "\\end{equation}"
   ]
  },
  {
   "cell_type": "code",
   "execution_count": 12,
   "metadata": {},
   "outputs": [
    {
     "name": "stdout",
     "output_type": "stream",
     "text": [
      "The convective heat loss is 16.04 W\n"
     ]
    }
   ],
   "source": [
    "g     = 9.81        # m/s2\n",
    "beta  = 1/T_f\n",
    "L     = .5          # m\n",
    "v     = 15.89E-6    # m/s2\n",
    "alpha = 22.5E-6     # m/s2\n",
    "k     = 26.3E-3     # W/mK\n",
    "A     = L*L*2.      # m2, the factor of 2 is for surface area times 2 sides of the plate\n",
    "\n",
    "Ra = g*beta*(T_s-T_inf)*L**3/(v*alpha)\n",
    "\n",
    "Nu = .59*Ra**.25\n",
    "\n",
    "h = Nu*k/L\n",
    "\n",
    "q_conv = h*A*(T_s-T_inf)\n",
    "\n",
    "print('The convective heat loss is %.2f W'%q_conv)"
   ]
  },
  {
   "cell_type": "markdown",
   "metadata": {},
   "source": [
    "4.3. Estimate the radiation heat losses.\n",
    "> Per the lecture notes, radiation heat losses are calculated by:\n",
    "> \n",
    "> \\begin{equation}\n",
    "q = A \\epsilon \\sigma (T_s^4 - T_{surr}^4)\n",
    "\\end{equation}"
   ]
  },
  {
   "cell_type": "code",
   "execution_count": 13,
   "metadata": {},
   "outputs": [
    {
     "name": "stdout",
     "output_type": "stream",
     "text": [
      "The radiation heat loss is 30.67 W\n"
     ]
    }
   ],
   "source": [
    "epsilon = 1\n",
    "sigma   = 5.67E-8  # W/m2 K4\n",
    "q_rad = A*epsilon*sigma*(T_s**4 - T_inf**4)\n",
    "\n",
    "print('The radiation heat loss is %.2f W'%q_rad)"
   ]
  },
  {
   "cell_type": "markdown",
   "metadata": {},
   "source": [
    "Now consider the impact of varying surface temperature. You may continue to use the fluid properties at the film temperature from (1).\n",
    "\n",
    "4.4. Calculate and plot the heat losses (convection, radiation, and total) as a function of surface temperature from $25 - 50^{\\circ}$C.\n",
    "> Work from parts 1-3 will be repeated in 5 degree increments"
   ]
  },
  {
   "cell_type": "code",
   "execution_count": 14,
   "metadata": {},
   "outputs": [
    {
     "data": {
      "image/png": "[encoded data removed]",
      "text/plain": [
       "<Figure size 432x288 with 1 Axes>"
      ]
     },
     "metadata": {
      "needs_background": "light"
     },
     "output_type": "display_data"
    }
   ],
   "source": [
    "# initialize array to store the results\n",
    "\n",
    "T_s    = np.zeros(6)\n",
    "q_conv = np.zeros(6)\n",
    "q_rad  = np.zeros(6)\n",
    "q_tot  = np.zeros(6)\n",
    "\n",
    "# solve and store data in 5 C increments\n",
    "\n",
    "for i in range(0,6):\n",
    "    T_s[i] = 25 + 273.15 + 5*i\n",
    "    T_f = (T_s[i] + T_inf)/2\n",
    "\n",
    "    beta = 1/T_f\n",
    "    Ra   = g*beta*(T_s[i]-T_inf)*L**3/(v*alpha)\n",
    "    Nu   = .59*Ra**.25\n",
    "\n",
    "    h = Nu*k/L\n",
    "\n",
    "    q_conv[i] = h*A*(T_s[i]-T_inf)\n",
    "    q_rad[i]  = A*epsilon*sigma*(T_s[i]**4 - T_inf**4)\n",
    "    q_tot[i]  = q_conv[i] + q_rad[i]\n",
    "    \n",
    "\n",
    "plt.plot(T_s-273.15,q_conv,label='Convection')\n",
    "plt.plot(T_s-273.15,q_rad,label='Radiation')\n",
    "plt.plot(T_s-273.15,q_tot,label='Total')\n",
    "plt.legend()\n",
    "plt.xlabel('Temperature [degC]')\n",
    "plt.ylabel('Heat transfer [W]')\n",
    "plt.title('Convection and Radiation heat loss vs Plate surface temperature')\n",
    "plt.show()"
   ]
  },
  {
   "cell_type": "markdown",
   "metadata": {},
   "source": [
    "# Sources\n",
    "\n",
    "Data was collected from lecture notes, the textbook tables referenced within the problems, and peer review (mostly for formatting in Jupyter notebook) was conducted with peer Grant Baumgarnder."
   ]
  }
 ],
 "metadata": {
  "kernelspec": {
   "display_name": "Python 3",
   "language": "python",
   "name": "python3"
  },
  "language_info": {
   "codemirror_mode": {
    "name": "ipython",
    "version": 3
   },
   "file_extension": ".py",
   "mimetype": "text/x-python",
   "name": "python",
   "nbconvert_exporter": "python",
   "pygments_lexer": "ipython3",
   "version": "3.8.3"
  }
 },
 "nbformat": 4,
 "nbformat_minor": 4
}
