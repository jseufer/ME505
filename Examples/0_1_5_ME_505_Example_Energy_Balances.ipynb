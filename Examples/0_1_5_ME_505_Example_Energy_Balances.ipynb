{
  "nbformat": 4,
  "nbformat_minor": 0,
  "metadata": {
    "colab": {
      "name": "0-1-5 ME 505 Example Energy Balances",
      "provenance": [],
      "collapsed_sections": []
    },
    "kernelspec": {
      "name": "python3",
      "display_name": "Python 3"
    }
  },
  "cells": [
    {
      "cell_type": "markdown",
      "metadata": {
        "id": "_su-hSVQeEW1"
      },
      "source": [
        "# 0-1-5 - ME505 - Energy Balance Example Problem\n",
        "\n",
        "Watch the video below for to hear my insight into the problem and/or read through the analysis below.\n",
        "\n",
        "Log into your google drive account (top right corner) to be able to run this code. Save a copy of this file to your google drive (File > Save a Copy in Drive) to modify the code and execute it."
      ]
    },
    {
      "cell_type": "code",
      "metadata": {
        "id": "WcQFkASneBKB",
        "cellView": "form",
        "colab": {
          "base_uri": "https://localhost:8080/",
          "height": 321
        },
        "outputId": "b928ae3c-686f-41a4-fc67-6a789392255e"
      },
      "source": [
        "#@title\n",
        "from IPython.display import YouTubeVideo\n",
        "# test video\n",
        "YouTubeVideo('outzbyu0hgs')\n"
      ],
      "execution_count": null,
      "outputs": [
        {
          "output_type": "execute_result",
          "data": {
            "text/html": [
              "\n",
              "        <iframe\n",
              "            width=\"400\"\n",
              "            height=\"300\"\n",
              "            src=\"https://www.youtube.com/embed/outzbyu0hgs\"\n",
              "            frameborder=\"0\"\n",
              "            allowfullscreen\n",
              "        ></iframe>\n",
              "        "
            ],
            "text/plain": [
              "<IPython.lib.display.YouTubeVideo at 0x7fa0abbfe9e8>"
            ],
            "image/jpeg": "[encoded data removed]"
          },
          "metadata": {
            "tags": []
          },
          "execution_count": 11
        }
      ]
    },
    {
      "cell_type": "markdown",
      "metadata": {
        "id": "AFCB78fQeHQt"
      },
      "source": [
        "# Problem Statement\n",
        "A 50 mm $\\times$ 45 mm x  20 mm cell phone charger has a surface temprature of $T_s$ = 33$^\\text{o}$C when plugged into an electrical wall outlet but not in use. The surface of the charger is of emissivity $\\epsilon = 0.92$ and is subject to a free convection heat transfer coefficeint of $h$ = 4.5 $\\frac{\\text{W}}{\\text{m}^2 \\text{K}}$. The room air and wall temperatures are $T_\\infty$ = 22$^\\text{o}$C and $T_{sur}$ = 20$^\\text{o}$C, respectively. If electricity costs $C$ = \\$0.18/(kW hr), determine the daily cost of leaving the charger plugged in when not in use.\n",
        "\n",
        "# Schematic"
      ]
    },
    {
      "cell_type": "code",
      "metadata": {
        "id": "BzR3e_QRNrEf",
        "cellView": "form",
        "colab": {
          "base_uri": "https://localhost:8080/",
          "height": 405
        },
        "outputId": "67208c74-ff17-4c9a-cf6c-abb5d31e0007"
      },
      "source": [
        "#@title\n",
        "from IPython.display import Image\n",
        "from IPython.core.display import HTML \n",
        "Image(url= \"https://drive.google.com/uc?export=view&id=1rvyvtz-uzsGsoKy5NO6Br6mSnwEibsRp\")"
      ],
      "execution_count": null,
      "outputs": [
        {
          "output_type": "execute_result",
          "data": {
            "text/html": [
              "<img src=\"https://drive.google.com/uc?export=view&id=1rvyvtz-uzsGsoKy5NO6Br6mSnwEibsRp\"/>"
            ],
            "text/plain": [
              "<IPython.core.display.Image object>"
            ]
          },
          "metadata": {
            "tags": []
          },
          "execution_count": 1
        }
      ]
    },
    {
      "cell_type": "markdown",
      "metadata": {
        "id": "x3VP2hive_bU"
      },
      "source": [
        "# Assumptions\n",
        "\n",
        "1.   Wall insulates the left face perfectly \n",
        "2.   5 surfaces are exposed to convection and radiation\n",
        "3.   Uniform properties ($h$, $\\epsilon$, etc.)\n",
        "4.   Steady state\n",
        "5. Neglect conduction losses through the charger cord\n",
        "\n"
      ]
    },
    {
      "cell_type": "markdown",
      "metadata": {
        "id": "oIFzTBcWsQ7i"
      },
      "source": [
        "# Analysis\n",
        "First we need to load the python modules and set up the givens including geometry, properties, boundary condition temperatures, and known constants.\n",
        "\n",
        "After looking at the solution with the given dimensions and parameters, feel free to come back here, edit this and run the code. You can run the code by :\n",
        "* hitting play on in the [ ] next to each cell or CTRL+SHIFT+Enter as you read through\n",
        "* to execute this and the rest of the note book, you can go to \"Runtime\" in the menu above and choosing \"Run All\" or hitting CTRL+F9 ()"
      ]
    },
    {
      "cell_type": "code",
      "metadata": {
        "id": "BNclW5p-eXVV"
      },
      "source": [
        "# import required modules\n",
        "import math # math functions\n",
        "import numpy as np # numerical math\n",
        "from numpy import *\n",
        "import matplotlib.pyplot as plt\n",
        "\n",
        "#Givens\n",
        "L = 50e-3\n",
        "W = 20e-3\n",
        "H = 45e-3\n",
        "As = 2*(L*W)+2*(W*H)+H*L  # Exposed surface area (m^2) (5 faces)\n",
        "T_s = 33  # surface temperature (oC)\n",
        "e = 0.92  # emissivity\n",
        "h = 4.5   # convection coefficient (W/m^2-K)\n",
        "T_inf = 22  # Air temperature (oC)\n",
        "T_sur = 20  # surroundings temperature (oC)\n",
        "C = 0.18    # electricity cost ($/(kW-hr))\n",
        "sigma = 5.67*10**-8  # Stefan Boltzmann Constant (W/(m^2 K^4))"
      ],
      "execution_count": null,
      "outputs": []
    },
    {
      "cell_type": "markdown",
      "metadata": {
        "id": "PubWRaXih7x6"
      },
      "source": [
        "# Energy Balance:\n",
        "Start from an energy balance on the phone charger: $$\\dot{E}_{in} -\\dot{E}_{out} + \\dot{E}_{gen} = \\dot{E}_{st}.$$\n",
        "*  Since the sytem is at steady state $\\dot{E}_{st} = 0$.\n",
        "*  Assuming 5 surfaces are uniformly exposed to convection and radiation: $\\dot{E}_{out} = q_{conv} + q_{radiation}.$\n",
        "*  No surfaces have energy coming in, so $\\dot{E}_{in} = 0.$\n",
        "*  The generation term is related the power consumed by the phone: $\\dot{E}_{gen} = P = \\dot{q} V $, where $P$ is in Watts and $\\dot{q}$ is in W/m$^3$. We want the total power, so we'll stick with $P$.\n",
        "\n",
        "Thus: $$ - (q_{conv} + q_{rad}) + P = 0 \\rightarrow P = \\dot{E}_{out} = q_{conv}+q_{rad}.$$\n",
        "This equation shows that the required power to maintain the surface at $T_s$ is the sum of the radiation and convection losses. The power will be found in Watts since this is the instantaneous form of the energy balance. \n",
        "*  The **convection** term is described by Newton's law of Cooling: $q_{conv} = h A_s (T_s - T_\\infty)$, where $h$ is given, $A_s$ is the total exposed surface area (5 surfaces), and the temperatures can be in $^\\text{o}$C or in K.\n",
        "*  The **radiation** term is described by the Stefan-Boltzmann Law: $q_{rad} = \\epsilon \\sigma A_s (T_s^4 - T_{sur}^4)$, where $\\epsilon$ is given in the problem statement, $\\sigma$ is the Stefan-Boltzmann Constant, and the temperatures are given and **must be expressed in Kelvin**."
      ]
    },
    {
      "cell_type": "code",
      "metadata": {
        "id": "3FXLdjLfkupr",
        "colab": {
          "base_uri": "https://localhost:8080/",
          "height": 68
        },
        "outputId": "18342e32-bf83-4c67-b771-676cc5cb6e50"
      },
      "source": [
        "q_conv = h*As*(T_s-T_inf)\n",
        "q_rad = e*sigma*As*((T_s+273.15)**4-(T_sur+273.15)**4)\n",
        "P = q_conv+q_rad\n",
        "print(\"The convection losses are {:1.2f} W\".format(q_conv))\n",
        "print(\"The radiation losses are {:1.2f} W\".format(q_rad))\n",
        "print(\"The total power drain is {:1.2f} W\".format(P))"
      ],
      "execution_count": null,
      "outputs": [
        {
          "output_type": "stream",
          "text": [
            "The convection losses are 0.30 W\n",
            "The radiation losses are 0.44 W\n",
            "The total power drain is 0.74 W\n"
          ],
          "name": "stdout"
        }
      ]
    },
    {
      "cell_type": "markdown",
      "metadata": {
        "id": "0ibAqOrYmNPl"
      },
      "source": [
        "#Cost\n",
        "\n",
        "To find the total cost, we must take the power (Watts = Joules/second) and multiply by the time the system is on (here, a day) and the cost factor to get the daily cost. Make sure to convert units appropriately: \n",
        " $$Cost = 0.18  \\frac{\\$}{kW \\text{hr}} \\left(\\frac{1 kW}{1000 W} \\right)  \\left(\\frac{24 \\text{hr}}{1 \\text{day}} \\right) (P [W]) (1 \\text{day})   $$"
      ]
    },
    {
      "cell_type": "code",
      "metadata": {
        "id": "sHGPorq-m9J4",
        "colab": {
          "base_uri": "https://localhost:8080/",
          "height": 34
        },
        "outputId": "261e9f55-d443-40a7-ba37-835f0db1e8f4"
      },
      "source": [
        "Cost = C/1000*24*P*1\n",
        "print(\"For 1 phone, the cost is ${:1.4f} per day\".format(Cost))\n"
      ],
      "execution_count": null,
      "outputs": [
        {
          "output_type": "stream",
          "text": [
            "For 1 phone, the cost is $0.0032 per day\n"
          ],
          "name": "stdout"
        }
      ]
    },
    {
      "cell_type": "markdown",
      "metadata": {
        "id": "OVlC4MeVpZeF"
      },
      "source": [
        "This might seem small, but there are many phones just in the US. Let's estimate 300 million cell phones in the US"
      ]
    },
    {
      "cell_type": "code",
      "metadata": {
        "id": "ElRglsy2pY_a",
        "colab": {
          "base_uri": "https://localhost:8080/",
          "height": 51
        },
        "outputId": "70c70db3-efd0-45ea-be14-7b5cc48bd4eb"
      },
      "source": [
        "USA_Cost = 300000000*Cost;\n",
        "print(\"For 300 million phones, the cost is ${:1.2f} per day\".format(USA_Cost))\n",
        "print(\"For 300 million phones, the energy wasted is {:1.2e} Joules per day\".format(P*300000000))\n"
      ],
      "execution_count": null,
      "outputs": [
        {
          "output_type": "stream",
          "text": [
            "For 300 million phones, the cost is $960627.86 per day\n",
            "For 300 million phones, the energy wasted is 2.22e+08 Joules per day\n"
          ],
          "name": "stdout"
        }
      ]
    },
    {
      "cell_type": "markdown",
      "metadata": {
        "id": "awVqpS9VqFU4"
      },
      "source": [
        "# Comments\n",
        "*   So called \"vampire chargers\" have made the news a lot, especially in the early 2010's. Some manufacturers have improved the circuitry in chargers to prevent much of this energy drain when the phone is not connected.\n",
        "*   We made numerous assumptions in this problem to make this problem solvable. Its important to document your assumptions and think about the effect of these on the calculation.\n",
        "*   You can explore how changing the convection coefficient and emissivity impact the energy costs by changing the variables in the givens section. However, note changing these parameters would also change the steady state temperature reached. You can use an energy balance now that you know the power to predict the new surface temperatures with varying $h$ and $\\epsilon$.\n",
        "*   Its important to change the temperatures to Kelvin for any problem involving radiation due to the $T^4$ relationship between power and temperature.\n",
        "*   Both radiation and convection are important in this problem."
      ]
    }
  ]
}