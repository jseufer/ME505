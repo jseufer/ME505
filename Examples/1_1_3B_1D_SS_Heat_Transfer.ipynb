{
 "cells": [
  {
   "cell_type": "markdown",
   "metadata": {
    "id": "ME4lc60uW4CP"
   },
   "source": [
    "#**1D SS Heat Transfer** \n",
    "Consider a plane wall (1-dimensional system with large surface area) of thickness $2 a$ and thermal conductivity $k$ with internal heat generation $\\dot{q}$. The temperature on either surface is fixed: $T(a) = T_a$ and $T(-a) = T_a$.\n",
    "\n",
    "#Schematic:"
   ]
  },
  {
   "cell_type": "code",
   "execution_count": 1,
   "metadata": {
    "cellView": "form",
    "colab": {
     "base_uri": "https://localhost:8080/",
     "height": 482
    },
    "id": "tvvxKX_FW2Yk",
    "outputId": "4cc22d34-ea57-4aca-981a-6d19cb8f9761"
   },
   "outputs": [
    {
     "data": {
      "text/html": [
       "<img src=\"https://drive.google.com/uc?export=view&id=1gFtwBQcuBy2HEql_LHviZjnUdGKeCAiJ\"/>"
      ],
      "text/plain": [
       "<IPython.core.display.Image object>"
      ]
     },
     "execution_count": 1,
     "metadata": {},
     "output_type": "execute_result"
    }
   ],
   "source": [
    "#@title\n",
    "from IPython.display import Image\n",
    "from IPython.core.display import HTML \n",
    "Image(url= \"https://drive.google.com/uc?export=view&id=1gFtwBQcuBy2HEql_LHviZjnUdGKeCAiJ\")"
   ]
  },
  {
   "cell_type": "markdown",
   "metadata": {
    "id": "3VVy6IVqW9g8"
   },
   "source": [
    "# Assumptions:\n",
    "1.  1D (Cartesian)\n",
    "2.  Steady State\n",
    "3.  Constant $\\dot{q}$\n",
    "4.  Constant $k$\n",
    "\n",
    "# Analysis:"
   ]
  },
  {
   "cell_type": "markdown",
   "metadata": {
    "id": "SDnns-bCs2tf"
   },
   "source": [
    "Let's start by simplifying the heat diffusion equation: $$\\frac{\\partial}{\\partial x} \\left(k \\frac{\\partial T}{\\partial x} \\right) + \\frac{\\partial}{\\partial y} \\left(k \\frac{\\partial T}{\\partial y} \\right) + \\frac{\\partial}{\\partial z} \\left(k \\frac{\\partial T}{\\partial z} \\right) + \\dot{q} = \\rho c_p \\frac{\\partial T}{\\partial t}.$$\n",
    "\n",
    "Assuming 1D in the x-direction, the y and z derivatives go to zero. Assuming steady state, the temporal derivative goes to 0. Assuming $k$ is constant, we can pull the $k$ out of the derivative. This yeilds an ordinary differntial equation: $$k \\frac{d^2 T}{dx^2} = -\\dot{q}.$$\n",
    "\n",
    "Although we can easily solve this by hand, let's use Python's symbolic math to help us.\n",
    "\n",
    "First we import the required modules.\n"
   ]
  },
  {
   "cell_type": "code",
   "execution_count": 2,
   "metadata": {
    "id": "SXQyqDroXFbX"
   },
   "outputs": [],
   "source": [
    "# Set up the python script\n",
    "# import required modules\n",
    "\n",
    "#Numerical Math\n",
    "import math # math functions\n",
    "import numpy as np # numerical math\n",
    "from numpy import *\n",
    "\n",
    "# Widgets\n",
    "import ipywidgets as widgets\n",
    "from IPython.display import display\n",
    "from ipywidgets import interact\n",
    "\n",
    "#Symbolic math\n",
    "import sympy # symbolic math\n",
    "from sympy import *\n",
    "from sympy.abc import x\n",
    "\n",
    "#plotting\n",
    "params = {'legend.fontsize': 'xx-large',\n",
    "          'figure.figsize': (15, 10),\n",
    "         'axes.labelsize': 'xx-large',\n",
    "         'axes.titlesize':'xx-large',\n",
    "         'xtick.labelsize':'xx-large',\n",
    "         'ytick.labelsize':'xx-large'}\n",
    "import matplotlib.pyplot as plt\n",
    "plt.rcParams.update(params)\n",
    "\n"
   ]
  },
  {
   "cell_type": "markdown",
   "metadata": {
    "id": "IJ5NJdE6uAjc"
   },
   "source": [
    "Now we define the temperature as a function and various constants as symbols. We define the differential equation in terms of solving such that (stuff) =  0:  $$ \\underbrace{\\frac{d^2 T}{dx^2} + \\frac{\\dot{q}}{k}}_{\\text{Use this in defining ODE}} = 0 .$$\n",
    "\n",
    "The function dsolve lets us solve the ODE:"
   ]
  },
  {
   "cell_type": "code",
   "execution_count": 3,
   "metadata": {
    "colab": {
     "base_uri": "https://localhost:8080/",
     "height": 84
    },
    "id": "k1dji9kEbcZg",
    "outputId": "65669ede-4132-4c31-a275-b692c60fed8f"
   },
   "outputs": [
    {
     "name": "stdout",
     "output_type": "stream",
     "text": [
      "              ⎛       q⋅x⎞\n",
      "            x⋅⎜C₂⋅k - ───⎟\n",
      "              ⎝        2 ⎠\n",
      "T(x) = C₁ + ──────────────\n",
      "                  k       \n"
     ]
    }
   ],
   "source": [
    "T = symbols('T', cls=Function)    # define T as a function\n",
    "q, k, x, a, Ta = symbols('q k x a Ta')   # define these as symbols\n",
    "eq = T(x).diff(x,x) + q/k         # define the ODE as the stuff in (stuff) = 0\n",
    "Teq=dsolve(eq)                        # symbolically solve the ode\n",
    "pprint(Teq)"
   ]
  },
  {
   "cell_type": "markdown",
   "metadata": {
    "id": "KhFuIcbHwVMi"
   },
   "source": [
    "Note how the expression has a linear portion like wihtout heat generation and the parabolic portion due to heat generation."
   ]
  },
  {
   "cell_type": "markdown",
   "metadata": {
    "id": "KkTwhHkCuf_f"
   },
   "source": [
    "There are two constants of integration that we need to fine from the boundary conditions. Rearrange each boundary condition into the form (stuff) = 0:\n",
    "\n",
    "$$T(a) = T_a \\rightarrow \\underbrace{T(a) - T_a}_{\\text{used in the def of the BC}} = 0$$\n",
    "$$T(-a) = T_a \\rightarrow \\underbrace{T(-a)-  T_a}_{\\text{used in the def of the BC}} = 0$$.\n",
    "\n",
    "We have 2 equations and two unknowns. We can use the symbolic solver in python to find the constants."
   ]
  },
  {
   "cell_type": "code",
   "execution_count": 4,
   "metadata": {
    "colab": {
     "base_uri": "https://localhost:8080/",
     "height": 101
    },
    "id": "zsE1sl5sc-gD",
    "outputId": "28cd1edf-5b5e-4ee5-93a1-ee13436704ed"
   },
   "outputs": [
    {
     "name": "stdout",
     "output_type": "stream",
     "text": [
      "⎧          2         ⎫\n",
      "⎪         a ⋅q       ⎪\n",
      "⎨C₁: Ta + ────, C₂: 0⎬\n",
      "⎪         2⋅k        ⎪\n",
      "⎩                    ⎭\n"
     ]
    }
   ],
   "source": [
    "C1, C2 = symbols('C1 C2')     # define these as symbols\n",
    "constants = sympy.solve([Teq.rhs.subs(x,a)-Ta, Teq.rhs.subs(x,-a)-Ta],[C1,C2])  #Solve for C1 and C2\n",
    "pprint(constants)"
   ]
  },
  {
   "cell_type": "markdown",
   "metadata": {
    "id": "ukqHfJsBvCHa"
   },
   "source": [
    "we now subsitute these into the temperature euqation to find an expression for $T(x)$"
   ]
  },
  {
   "cell_type": "code",
   "execution_count": 5,
   "metadata": {
    "colab": {
     "base_uri": "https://localhost:8080/",
     "height": 84
    },
    "id": "CYKiaoZ2kORY",
    "outputId": "859406f2-a61e-4b3a-b31d-b2293f175983"
   },
   "outputs": [
    {
     "name": "stdout",
     "output_type": "stream",
     "text": [
      "             2        2\n",
      "            a ⋅q   q⋅x \n",
      "T(x) = Ta + ──── - ────\n",
      "            2⋅k    2⋅k \n"
     ]
    }
   ],
   "source": [
    "Teq = Teq.subs(constants)  # Substitute constants C1 and C2 into the equation\n",
    "pprint(Teq)"
   ]
  },
  {
   "cell_type": "markdown",
   "metadata": {
    "id": "X723UnMJvHxO"
   },
   "source": [
    "Now let's plot this for one set of $a$, $\\dot{q}$, $k$, and $T_a$. \n",
    "\n",
    "For constants that are a single value like $k$, you can use the subs command to replace. To input a set of positions, you need to \"lambdify\" the equation, then can input that into the epression for T."
   ]
  },
  {
   "cell_type": "code",
   "execution_count": 6,
   "metadata": {
    "colab": {
     "base_uri": "https://localhost:8080/",
     "height": 616
    },
    "id": "pCgt64agvRRK",
    "outputId": "a203da66-7ac7-45c2-f93c-c07642c5ef38"
   },
   "outputs": [
    {
     "data": {
      "text/plain": [
       "Text(0, 0.5, 'T')"
      ]
     },
     "execution_count": 6,
     "metadata": {},
     "output_type": "execute_result"
    },
    {
     "data": {
      "image/png": "[encoded data removed]",
      "text/plain": [
       "<Figure size 1080x720 with 1 Axes>"
      ]
     },
     "metadata": {
      "needs_background": "light"
     },
     "output_type": "display_data"
    }
   ],
   "source": [
    "Ta_s = 100  #(^oC) boundary condition temperature\n",
    "a_s = 1     #(m) Half width of system\n",
    "q_s = 1000  #(W/m^3) heat generation rate\n",
    "k_s = 1     #(W/m-K) thermal conductivity\n",
    "Tp = Teq.rhs.subs([(a,a_s),(q,q_s),(k,k_s),(Ta,Ta_s)])  # Substitute givens into the equation\n",
    "Tp = lambdify(x,Tp,\"numpy\")\n",
    "xp = np.linspace(-a_s,a_s,num=100)\n",
    "Tp = Tp(xp)\n",
    "plt.figure(figsize=(15,10))\n",
    "plt.plot(xp,Tp)\n",
    "plt.xlabel('x',fontsize=25)\n",
    "plt.ylabel('T',fontsize=25)\n"
   ]
  },
  {
   "cell_type": "markdown",
   "metadata": {
    "id": "tBkEkuIFwIX9"
   },
   "source": [
    "Now let's plot this for varying $a$, $\\dot{q}$, $k$, and $T_a$. Explore how changing these parameters impact the curves"
   ]
  },
  {
   "cell_type": "code",
   "execution_count": 7,
   "metadata": {
    "colab": {
     "base_uri": "https://localhost:8080/",
     "height": 727,
     "referenced_widgets": [
      "ab15aca6e13b4f338910d4ce4055f034",
      "409014d0f7c049dc89da746b8bbac139",
      "6396be4a037f452a9514d7ee75840e78",
      "b1ecddafbb6948ffbe340e011e9429d5",
      "d7e8bdce6f044a198a38e4a357580ba8",
      "083490bc57c94bc481385c6bcd07b094",
      "1483a84c0e60443ebd3e6d0267553187",
      "4ecd70a0442845db812aa23568626835",
      "779ab9d3da78470ab3b074f608e6d7fa",
      "e0445dd40ae3432fa3fa6477e099053e",
      "77fd5e51d7074af587aba7c6fdbc1f4c",
      "0cbdb4fbd5be4239abd4b684d1701cc6",
      "1e09a748e5e241abbcf782a2c3e68c44",
      "54f26215a9d64dcea3a42a21d878f0b5",
      "f3526b9be9224c7e84307dff1b4f466a",
      "ae0187fcca9940b881f7dbfaeb216549"
     ]
    },
    "id": "6M3Bxrfwk9LQ",
    "outputId": "d128a862-4175-48ac-e12b-31e385d2f577"
   },
   "outputs": [
    {
     "data": {
      "application/vnd.jupyter.widget-view+json": {
       "model_id": "538ad1aefecc4c00bf5b0fb328aad7db",
       "version_major": 2,
       "version_minor": 0
      },
      "text/plain": [
       "interactive(children=(FloatSlider(value=1.0, description='a (m):', max=10.0, min=0.1), FloatSlider(value=1000.…"
      ]
     },
     "metadata": {},
     "output_type": "display_data"
    }
   ],
   "source": [
    "#@title\n",
    "#Create ranges for interactive sliders. \n",
    "Ta_s =widgets.FloatSlider(value = 0, min = 0, max = 1000, step = 1, description = 'T(a) = T(-a):') \n",
    "a_s = widgets.FloatSlider(value = 1, min = 0.1, max = 10, step = .1, description = 'a (m):')\n",
    "q_s = widgets.FloatSlider(value = 10**3, min = 0, max = 10**4, step = 10, description = 'q (W/m^3):')\n",
    "k_s = widgets.FloatSlider(value = 1, min = 0.5, max = 1000, step = .5, description = 'k (W/m-k):')\n",
    "Teq=dsolve(eq)\n",
    "\n",
    "@interact\n",
    "def plot_T(a1 = a_s, q1 = q_s, k1 = k_s, Ta1= Ta_s):\n",
    "  constants = sympy.solve([Teq.rhs.subs(x,a)-Ta1, Teq.rhs.subs(x,-a)-Ta1],[C1,C2])  #Solve for C1 and C2\n",
    "  Tp = Teq.subs(constants)  # Substitute constants C1 and C2 into the equation\n",
    "  Tp = Tp.rhs.subs([(a,a1),(q,q1),(k,k1)])  # Substitute givens into the equation\n",
    "  Tp = lambdify(x,Tp,\"numpy\")\n",
    "  xp = np.linspace(-a1,a1,num=100)\n",
    "  Tp = Tp(xp)\n",
    "  plt.figure(figsize=(15,10))\n",
    "  plt.plot(xp,Tp)\n",
    "  plt.xlabel('x',fontsize=25)\n",
    "  plt.ylabel('T',fontsize=25)\n"
   ]
  },
  {
   "cell_type": "markdown",
   "metadata": {
    "id": "yc1S8tg9wdzx"
   },
   "source": [
    "What if the left and right sides have differnt temperautres. Here, we assign:\n",
    "\n",
    "$$T(a) = T_a \\rightarrow \\underbrace{T(a) - T_a}_{\\text{used in the def of the BC}} = 0$$\n",
    "$$T(-a) = T_b \\rightarrow \\underbrace{T(-a)-  T_b}_{\\text{used in the def of the BC}} = 0$$.\n"
   ]
  },
  {
   "cell_type": "code",
   "execution_count": 8,
   "metadata": {
    "colab": {
     "base_uri": "https://localhost:8080/",
     "height": 759,
     "referenced_widgets": [
      "8f0e38e465da4595ae233f6180411ce2",
      "a083eb5cf8774cce886cf824e59a97e8",
      "6396be4a037f452a9514d7ee75840e78",
      "b1ecddafbb6948ffbe340e011e9429d5",
      "d7e8bdce6f044a198a38e4a357580ba8",
      "7921a30cc2e34cb4b2dd792a3555f6c0",
      "b5ca1027c1db4775a1939f722f3d05eb",
      "d51d69d31425403995cf46a051386f1d",
      "4ecd70a0442845db812aa23568626835",
      "779ab9d3da78470ab3b074f608e6d7fa",
      "e0445dd40ae3432fa3fa6477e099053e",
      "77fd5e51d7074af587aba7c6fdbc1f4c",
      "0cbdb4fbd5be4239abd4b684d1701cc6",
      "1e09a748e5e241abbcf782a2c3e68c44",
      "539f6c3c5ceb43d1ae4cec175667158e",
      "4af642dda1384a3ba5b86257ec75a81d",
      "1e0594cbb8c946b0b12bcaf2b35c9093",
      "2fed25127b354a75bf493a67de7837c8",
      "f11ee880876943519ebcd3c859bef396"
     ]
    },
    "id": "zd8tsCvFoCnk",
    "outputId": "94a77fc2-3765-497a-ad9e-70c47a437016"
   },
   "outputs": [
    {
     "data": {
      "application/vnd.jupyter.widget-view+json": {
       "model_id": "29fc446402c4445bacfe3f378677cc30",
       "version_major": 2,
       "version_minor": 0
      },
      "text/plain": [
       "interactive(children=(FloatSlider(value=1.0, description='a (m):', max=10.0, min=0.1), FloatSlider(value=1000.…"
      ]
     },
     "metadata": {},
     "output_type": "display_data"
    }
   ],
   "source": [
    "Tpa_s = widgets.FloatSlider(value = 0, min = 0, max = 1000, step = 10, description = 'T(a) (C):')\n",
    "Tma_s = widgets.FloatSlider(value = 100, min = 0, max = 1000, step = 10, description = 'T(-a) (C):')\n",
    "Teq=dsolve(eq)    # symbolically solve the ode\n",
    "\n",
    "@interact\n",
    "def plot_T(a1 = a_s, q1 = q_s, k1 = k_s, Tma = Tma_s, Tpa = Tpa_s):\n",
    "  constants = sympy.solve([Teq.rhs.subs(x,a)-Tpa, Teq.rhs.subs(x,-a)-Tma],[C1,C2])  #Solve for C1 and C2\n",
    "  Tp = Teq.subs(constants)  # Substitute constants C1 and C2 into the equation\n",
    "  Tp = Tp.rhs.subs([(a,a1),(q,q1),(k,k1)])  # Substitute givens into the equation\n",
    "  Tp = lambdify(x,Tp,\"numpy\")\n",
    "  xp = np.linspace(-a1,a1,num=100)\n",
    "  Tp = Tp(xp)\n",
    "  plt.figure(figsize=(15,10))\n",
    "  plt.plot(xp,Tp)\n",
    "  plt.xlabel('x',fontsize=25)\n",
    "  plt.ylabel('T',fontsize=25)\n"
   ]
  },
  {
   "cell_type": "markdown",
   "metadata": {
    "id": "Z8HXZr-Aw-TC"
   },
   "source": [
    "# Activities\n",
    "Make a copy for yourself and explore the system.\n",
    "*   When you shift $T(x=-a)$ and $T(x=a)$ boundary conditions, how does the amount of heat flowing to each boundary change? Hint, pay attention to the magnitude of $\\frac{dT}{dx}$ at the interfaces. Also, if you look at the position where $\\frac{dT}{dx} = 0$, that point has $q''=0$. Thus all heat generated to the left of that point flows out of the left boundary and all the heat generated in the region to the right flows out the right boundary. You can add a few lines of code to calculate these things.\n",
    "*  Change the ODE to the one for radial or sperical coordinates. \n",
    "*  Change the expressions for boundary conditions to account for convection to a free stream temperature $T_\\infty$ or make one boundary adiabatic."
   ]
  },
  {
   "cell_type": "code",
   "execution_count": null,
   "metadata": {},
   "outputs": [],
   "source": []
  }
 ],
 "metadata": {
  "colab": {
   "collapsed_sections": [],
   "name": "1-1-3B 1D SS Heat Transfer",
   "provenance": []
  },
  "kernelspec": {
   "display_name": "Python 3",
   "language": "python",
   "name": "python3"
  },
  "language_info": {
   "codemirror_mode": {
    "name": "ipython",
    "version": 3
   },
   "file_extension": ".py",
   "mimetype": "text/x-python",
   "name": "python",
   "nbconvert_exporter": "python",
   "pygments_lexer": "ipython3",
   "version": "3.8.3"
  },
  "widgets": {
   "application/vnd.jupyter.widget-state+json": {
    "083490bc57c94bc481385c6bcd07b094": {
     "model_module": "@jupyter-widgets/controls",
     "model_name": "FloatSliderModel",
     "state": {
      "_dom_classes": [],
      "_model_module": "@jupyter-widgets/controls",
      "_model_module_version": "1.5.0",
      "_model_name": "FloatSliderModel",
      "_view_count": null,
      "_view_module": "@jupyter-widgets/controls",
      "_view_module_version": "1.5.0",
      "_view_name": "FloatSliderView",
      "continuous_update": true,
      "description": "T(a) = T(-a):",
      "description_tooltip": null,
      "disabled": false,
      "layout": "IPY_MODEL_f3526b9be9224c7e84307dff1b4f466a",
      "max": 1000,
      "min": 0,
      "orientation": "horizontal",
      "readout": true,
      "readout_format": ".2f",
      "step": 1,
      "style": "IPY_MODEL_54f26215a9d64dcea3a42a21d878f0b5",
      "value": 0
     }
    },
    "0cbdb4fbd5be4239abd4b684d1701cc6": {
     "model_module": "@jupyter-widgets/controls",
     "model_name": "SliderStyleModel",
     "state": {
      "_model_module": "@jupyter-widgets/controls",
      "_model_module_version": "1.5.0",
      "_model_name": "SliderStyleModel",
      "_view_count": null,
      "_view_module": "@jupyter-widgets/base",
      "_view_module_version": "1.2.0",
      "_view_name": "StyleView",
      "description_width": "",
      "handle_color": null
     }
    },
    "1483a84c0e60443ebd3e6d0267553187": {
     "model_module": "@jupyter-widgets/output",
     "model_name": "OutputModel",
     "state": {
      "_dom_classes": [],
      "_model_module": "@jupyter-widgets/output",
      "_model_module_version": "1.0.0",
      "_model_name": "OutputModel",
      "_view_count": null,
      "_view_module": "@jupyter-widgets/output",
      "_view_module_version": "1.0.0",
      "_view_name": "OutputView",
      "layout": "IPY_MODEL_ae0187fcca9940b881f7dbfaeb216549",
      "msg_id": "",
      "outputs": [
       {
        "image/png": "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\n",
        "metadata": {
         "needs_background": "light",
         "tags": []
        },
        "output_type": "display_data",
        "text/plain": "<Figure size 1080x720 with 1 Axes>"
       }
      ]
     }
    },
    "1e0594cbb8c946b0b12bcaf2b35c9093": {
     "model_module": "@jupyter-widgets/controls",
     "model_name": "SliderStyleModel",
     "state": {
      "_model_module": "@jupyter-widgets/controls",
      "_model_module_version": "1.5.0",
      "_model_name": "SliderStyleModel",
      "_view_count": null,
      "_view_module": "@jupyter-widgets/base",
      "_view_module_version": "1.2.0",
      "_view_name": "StyleView",
      "description_width": "",
      "handle_color": null
     }
    },
    "1e09a748e5e241abbcf782a2c3e68c44": {
     "model_module": "@jupyter-widgets/base",
     "model_name": "LayoutModel",
     "state": {
      "_model_module": "@jupyter-widgets/base",
      "_model_module_version": "1.2.0",
      "_model_name": "LayoutModel",
      "_view_count": null,
      "_view_module": "@jupyter-widgets/base",
      "_view_module_version": "1.2.0",
      "_view_name": "LayoutView",
      "align_content": null,
      "align_items": null,
      "align_self": null,
      "border": null,
      "bottom": null,
      "display": null,
      "flex": null,
      "flex_flow": null,
      "grid_area": null,
      "grid_auto_columns": null,
      "grid_auto_flow": null,
      "grid_auto_rows": null,
      "grid_column": null,
      "grid_gap": null,
      "grid_row": null,
      "grid_template_areas": null,
      "grid_template_columns": null,
      "grid_template_rows": null,
      "height": null,
      "justify_content": null,
      "justify_items": null,
      "left": null,
      "margin": null,
      "max_height": null,
      "max_width": null,
      "min_height": null,
      "min_width": null,
      "object_fit": null,
      "object_position": null,
      "order": null,
      "overflow": null,
      "overflow_x": null,
      "overflow_y": null,
      "padding": null,
      "right": null,
      "top": null,
      "visibility": null,
      "width": null
     }
    },
    "2fed25127b354a75bf493a67de7837c8": {
     "model_module": "@jupyter-widgets/base",
     "model_name": "LayoutModel",
     "state": {
      "_model_module": "@jupyter-widgets/base",
      "_model_module_version": "1.2.0",
      "_model_name": "LayoutModel",
      "_view_count": null,
      "_view_module": "@jupyter-widgets/base",
      "_view_module_version": "1.2.0",
      "_view_name": "LayoutView",
      "align_content": null,
      "align_items": null,
      "align_self": null,
      "border": null,
      "bottom": null,
      "display": null,
      "flex": null,
      "flex_flow": null,
      "grid_area": null,
      "grid_auto_columns": null,
      "grid_auto_flow": null,
      "grid_auto_rows": null,
      "grid_column": null,
      "grid_gap": null,
      "grid_row": null,
      "grid_template_areas": null,
      "grid_template_columns": null,
      "grid_template_rows": null,
      "height": null,
      "justify_content": null,
      "justify_items": null,
      "left": null,
      "margin": null,
      "max_height": null,
      "max_width": null,
      "min_height": null,
      "min_width": null,
      "object_fit": null,
      "object_position": null,
      "order": null,
      "overflow": null,
      "overflow_x": null,
      "overflow_y": null,
      "padding": null,
      "right": null,
      "top": null,
      "visibility": null,
      "width": null
     }
    },
    "409014d0f7c049dc89da746b8bbac139": {
     "model_module": "@jupyter-widgets/base",
     "model_name": "LayoutModel",
     "state": {
      "_model_module": "@jupyter-widgets/base",
      "_model_module_version": "1.2.0",
      "_model_name": "LayoutModel",
      "_view_count": null,
      "_view_module": "@jupyter-widgets/base",
      "_view_module_version": "1.2.0",
      "_view_name": "LayoutView",
      "align_content": null,
      "align_items": null,
      "align_self": null,
      "border": null,
      "bottom": null,
      "display": null,
      "flex": null,
      "flex_flow": null,
      "grid_area": null,
      "grid_auto_columns": null,
      "grid_auto_flow": null,
      "grid_auto_rows": null,
      "grid_column": null,
      "grid_gap": null,
      "grid_row": null,
      "grid_template_areas": null,
      "grid_template_columns": null,
      "grid_template_rows": null,
      "height": null,
      "justify_content": null,
      "justify_items": null,
      "left": null,
      "margin": null,
      "max_height": null,
      "max_width": null,
      "min_height": null,
      "min_width": null,
      "object_fit": null,
      "object_position": null,
      "order": null,
      "overflow": null,
      "overflow_x": null,
      "overflow_y": null,
      "padding": null,
      "right": null,
      "top": null,
      "visibility": null,
      "width": null
     }
    },
    "4af642dda1384a3ba5b86257ec75a81d": {
     "model_module": "@jupyter-widgets/base",
     "model_name": "LayoutModel",
     "state": {
      "_model_module": "@jupyter-widgets/base",
      "_model_module_version": "1.2.0",
      "_model_name": "LayoutModel",
      "_view_count": null,
      "_view_module": "@jupyter-widgets/base",
      "_view_module_version": "1.2.0",
      "_view_name": "LayoutView",
      "align_content": null,
      "align_items": null,
      "align_self": null,
      "border": null,
      "bottom": null,
      "display": null,
      "flex": null,
      "flex_flow": null,
      "grid_area": null,
      "grid_auto_columns": null,
      "grid_auto_flow": null,
      "grid_auto_rows": null,
      "grid_column": null,
      "grid_gap": null,
      "grid_row": null,
      "grid_template_areas": null,
      "grid_template_columns": null,
      "grid_template_rows": null,
      "height": null,
      "justify_content": null,
      "justify_items": null,
      "left": null,
      "margin": null,
      "max_height": null,
      "max_width": null,
      "min_height": null,
      "min_width": null,
      "object_fit": null,
      "object_position": null,
      "order": null,
      "overflow": null,
      "overflow_x": null,
      "overflow_y": null,
      "padding": null,
      "right": null,
      "top": null,
      "visibility": null,
      "width": null
     }
    },
    "4ecd70a0442845db812aa23568626835": {
     "model_module": "@jupyter-widgets/controls",
     "model_name": "SliderStyleModel",
     "state": {
      "_model_module": "@jupyter-widgets/controls",
      "_model_module_version": "1.5.0",
      "_model_name": "SliderStyleModel",
      "_view_count": null,
      "_view_module": "@jupyter-widgets/base",
      "_view_module_version": "1.2.0",
      "_view_name": "StyleView",
      "description_width": "",
      "handle_color": null
     }
    },
    "539f6c3c5ceb43d1ae4cec175667158e": {
     "model_module": "@jupyter-widgets/controls",
     "model_name": "SliderStyleModel",
     "state": {
      "_model_module": "@jupyter-widgets/controls",
      "_model_module_version": "1.5.0",
      "_model_name": "SliderStyleModel",
      "_view_count": null,
      "_view_module": "@jupyter-widgets/base",
      "_view_module_version": "1.2.0",
      "_view_name": "StyleView",
      "description_width": "",
      "handle_color": null
     }
    },
    "54f26215a9d64dcea3a42a21d878f0b5": {
     "model_module": "@jupyter-widgets/controls",
     "model_name": "SliderStyleModel",
     "state": {
      "_model_module": "@jupyter-widgets/controls",
      "_model_module_version": "1.5.0",
      "_model_name": "SliderStyleModel",
      "_view_count": null,
      "_view_module": "@jupyter-widgets/base",
      "_view_module_version": "1.2.0",
      "_view_name": "StyleView",
      "description_width": "",
      "handle_color": null
     }
    },
    "6396be4a037f452a9514d7ee75840e78": {
     "model_module": "@jupyter-widgets/controls",
     "model_name": "FloatSliderModel",
     "state": {
      "_dom_classes": [],
      "_model_module": "@jupyter-widgets/controls",
      "_model_module_version": "1.5.0",
      "_model_name": "FloatSliderModel",
      "_view_count": null,
      "_view_module": "@jupyter-widgets/controls",
      "_view_module_version": "1.5.0",
      "_view_name": "FloatSliderView",
      "continuous_update": true,
      "description": "a (m):",
      "description_tooltip": null,
      "disabled": false,
      "layout": "IPY_MODEL_779ab9d3da78470ab3b074f608e6d7fa",
      "max": 10,
      "min": 0.1,
      "orientation": "horizontal",
      "readout": true,
      "readout_format": ".2f",
      "step": 0.1,
      "style": "IPY_MODEL_4ecd70a0442845db812aa23568626835",
      "value": 1
     }
    },
    "779ab9d3da78470ab3b074f608e6d7fa": {
     "model_module": "@jupyter-widgets/base",
     "model_name": "LayoutModel",
     "state": {
      "_model_module": "@jupyter-widgets/base",
      "_model_module_version": "1.2.0",
      "_model_name": "LayoutModel",
      "_view_count": null,
      "_view_module": "@jupyter-widgets/base",
      "_view_module_version": "1.2.0",
      "_view_name": "LayoutView",
      "align_content": null,
      "align_items": null,
      "align_self": null,
      "border": null,
      "bottom": null,
      "display": null,
      "flex": null,
      "flex_flow": null,
      "grid_area": null,
      "grid_auto_columns": null,
      "grid_auto_flow": null,
      "grid_auto_rows": null,
      "grid_column": null,
      "grid_gap": null,
      "grid_row": null,
      "grid_template_areas": null,
      "grid_template_columns": null,
      "grid_template_rows": null,
      "height": null,
      "justify_content": null,
      "justify_items": null,
      "left": null,
      "margin": null,
      "max_height": null,
      "max_width": null,
      "min_height": null,
      "min_width": null,
      "object_fit": null,
      "object_position": null,
      "order": null,
      "overflow": null,
      "overflow_x": null,
      "overflow_y": null,
      "padding": null,
      "right": null,
      "top": null,
      "visibility": null,
      "width": null
     }
    },
    "77fd5e51d7074af587aba7c6fdbc1f4c": {
     "model_module": "@jupyter-widgets/base",
     "model_name": "LayoutModel",
     "state": {
      "_model_module": "@jupyter-widgets/base",
      "_model_module_version": "1.2.0",
      "_model_name": "LayoutModel",
      "_view_count": null,
      "_view_module": "@jupyter-widgets/base",
      "_view_module_version": "1.2.0",
      "_view_name": "LayoutView",
      "align_content": null,
      "align_items": null,
      "align_self": null,
      "border": null,
      "bottom": null,
      "display": null,
      "flex": null,
      "flex_flow": null,
      "grid_area": null,
      "grid_auto_columns": null,
      "grid_auto_flow": null,
      "grid_auto_rows": null,
      "grid_column": null,
      "grid_gap": null,
      "grid_row": null,
      "grid_template_areas": null,
      "grid_template_columns": null,
      "grid_template_rows": null,
      "height": null,
      "justify_content": null,
      "justify_items": null,
      "left": null,
      "margin": null,
      "max_height": null,
      "max_width": null,
      "min_height": null,
      "min_width": null,
      "object_fit": null,
      "object_position": null,
      "order": null,
      "overflow": null,
      "overflow_x": null,
      "overflow_y": null,
      "padding": null,
      "right": null,
      "top": null,
      "visibility": null,
      "width": null
     }
    },
    "7921a30cc2e34cb4b2dd792a3555f6c0": {
     "model_module": "@jupyter-widgets/controls",
     "model_name": "FloatSliderModel",
     "state": {
      "_dom_classes": [],
      "_model_module": "@jupyter-widgets/controls",
      "_model_module_version": "1.5.0",
      "_model_name": "FloatSliderModel",
      "_view_count": null,
      "_view_module": "@jupyter-widgets/controls",
      "_view_module_version": "1.5.0",
      "_view_name": "FloatSliderView",
      "continuous_update": true,
      "description": "T(-a) (C):",
      "description_tooltip": null,
      "disabled": false,
      "layout": "IPY_MODEL_4af642dda1384a3ba5b86257ec75a81d",
      "max": 1000,
      "min": 0,
      "orientation": "horizontal",
      "readout": true,
      "readout_format": ".2f",
      "step": 10,
      "style": "IPY_MODEL_539f6c3c5ceb43d1ae4cec175667158e",
      "value": 100
     }
    },
    "8f0e38e465da4595ae233f6180411ce2": {
     "model_module": "@jupyter-widgets/controls",
     "model_name": "VBoxModel",
     "state": {
      "_dom_classes": [
       "widget-interact"
      ],
      "_model_module": "@jupyter-widgets/controls",
      "_model_module_version": "1.5.0",
      "_model_name": "VBoxModel",
      "_view_count": null,
      "_view_module": "@jupyter-widgets/controls",
      "_view_module_version": "1.5.0",
      "_view_name": "VBoxView",
      "box_style": "",
      "children": [
       "IPY_MODEL_6396be4a037f452a9514d7ee75840e78",
       "IPY_MODEL_b1ecddafbb6948ffbe340e011e9429d5",
       "IPY_MODEL_d7e8bdce6f044a198a38e4a357580ba8",
       "IPY_MODEL_7921a30cc2e34cb4b2dd792a3555f6c0",
       "IPY_MODEL_b5ca1027c1db4775a1939f722f3d05eb",
       "IPY_MODEL_d51d69d31425403995cf46a051386f1d"
      ],
      "layout": "IPY_MODEL_a083eb5cf8774cce886cf824e59a97e8"
     }
    },
    "a083eb5cf8774cce886cf824e59a97e8": {
     "model_module": "@jupyter-widgets/base",
     "model_name": "LayoutModel",
     "state": {
      "_model_module": "@jupyter-widgets/base",
      "_model_module_version": "1.2.0",
      "_model_name": "LayoutModel",
      "_view_count": null,
      "_view_module": "@jupyter-widgets/base",
      "_view_module_version": "1.2.0",
      "_view_name": "LayoutView",
      "align_content": null,
      "align_items": null,
      "align_self": null,
      "border": null,
      "bottom": null,
      "display": null,
      "flex": null,
      "flex_flow": null,
      "grid_area": null,
      "grid_auto_columns": null,
      "grid_auto_flow": null,
      "grid_auto_rows": null,
      "grid_column": null,
      "grid_gap": null,
      "grid_row": null,
      "grid_template_areas": null,
      "grid_template_columns": null,
      "grid_template_rows": null,
      "height": null,
      "justify_content": null,
      "justify_items": null,
      "left": null,
      "margin": null,
      "max_height": null,
      "max_width": null,
      "min_height": null,
      "min_width": null,
      "object_fit": null,
      "object_position": null,
      "order": null,
      "overflow": null,
      "overflow_x": null,
      "overflow_y": null,
      "padding": null,
      "right": null,
      "top": null,
      "visibility": null,
      "width": null
     }
    },
    "ab15aca6e13b4f338910d4ce4055f034": {
     "model_module": "@jupyter-widgets/controls",
     "model_name": "VBoxModel",
     "state": {
      "_dom_classes": [
       "widget-interact"
      ],
      "_model_module": "@jupyter-widgets/controls",
      "_model_module_version": "1.5.0",
      "_model_name": "VBoxModel",
      "_view_count": null,
      "_view_module": "@jupyter-widgets/controls",
      "_view_module_version": "1.5.0",
      "_view_name": "VBoxView",
      "box_style": "",
      "children": [
       "IPY_MODEL_6396be4a037f452a9514d7ee75840e78",
       "IPY_MODEL_b1ecddafbb6948ffbe340e011e9429d5",
       "IPY_MODEL_d7e8bdce6f044a198a38e4a357580ba8",
       "IPY_MODEL_083490bc57c94bc481385c6bcd07b094",
       "IPY_MODEL_1483a84c0e60443ebd3e6d0267553187"
      ],
      "layout": "IPY_MODEL_409014d0f7c049dc89da746b8bbac139"
     }
    },
    "ae0187fcca9940b881f7dbfaeb216549": {
     "model_module": "@jupyter-widgets/base",
     "model_name": "LayoutModel",
     "state": {
      "_model_module": "@jupyter-widgets/base",
      "_model_module_version": "1.2.0",
      "_model_name": "LayoutModel",
      "_view_count": null,
      "_view_module": "@jupyter-widgets/base",
      "_view_module_version": "1.2.0",
      "_view_name": "LayoutView",
      "align_content": null,
      "align_items": null,
      "align_self": null,
      "border": null,
      "bottom": null,
      "display": null,
      "flex": null,
      "flex_flow": null,
      "grid_area": null,
      "grid_auto_columns": null,
      "grid_auto_flow": null,
      "grid_auto_rows": null,
      "grid_column": null,
      "grid_gap": null,
      "grid_row": null,
      "grid_template_areas": null,
      "grid_template_columns": null,
      "grid_template_rows": null,
      "height": null,
      "justify_content": null,
      "justify_items": null,
      "left": null,
      "margin": null,
      "max_height": null,
      "max_width": null,
      "min_height": null,
      "min_width": null,
      "object_fit": null,
      "object_position": null,
      "order": null,
      "overflow": null,
      "overflow_x": null,
      "overflow_y": null,
      "padding": null,
      "right": null,
      "top": null,
      "visibility": null,
      "width": null
     }
    },
    "b1ecddafbb6948ffbe340e011e9429d5": {
     "model_module": "@jupyter-widgets/controls",
     "model_name": "FloatSliderModel",
     "state": {
      "_dom_classes": [],
      "_model_module": "@jupyter-widgets/controls",
      "_model_module_version": "1.5.0",
      "_model_name": "FloatSliderModel",
      "_view_count": null,
      "_view_module": "@jupyter-widgets/controls",
      "_view_module_version": "1.5.0",
      "_view_name": "FloatSliderView",
      "continuous_update": true,
      "description": "q (W/m^3):",
      "description_tooltip": null,
      "disabled": false,
      "layout": "IPY_MODEL_77fd5e51d7074af587aba7c6fdbc1f4c",
      "max": 10000,
      "min": 0,
      "orientation": "horizontal",
      "readout": true,
      "readout_format": ".2f",
      "step": 10,
      "style": "IPY_MODEL_e0445dd40ae3432fa3fa6477e099053e",
      "value": 1000
     }
    },
    "b5ca1027c1db4775a1939f722f3d05eb": {
     "model_module": "@jupyter-widgets/controls",
     "model_name": "FloatSliderModel",
     "state": {
      "_dom_classes": [],
      "_model_module": "@jupyter-widgets/controls",
      "_model_module_version": "1.5.0",
      "_model_name": "FloatSliderModel",
      "_view_count": null,
      "_view_module": "@jupyter-widgets/controls",
      "_view_module_version": "1.5.0",
      "_view_name": "FloatSliderView",
      "continuous_update": true,
      "description": "T(a) (C):",
      "description_tooltip": null,
      "disabled": false,
      "layout": "IPY_MODEL_2fed25127b354a75bf493a67de7837c8",
      "max": 1000,
      "min": 0,
      "orientation": "horizontal",
      "readout": true,
      "readout_format": ".2f",
      "step": 10,
      "style": "IPY_MODEL_1e0594cbb8c946b0b12bcaf2b35c9093",
      "value": 0
     }
    },
    "d51d69d31425403995cf46a051386f1d": {
     "model_module": "@jupyter-widgets/output",
     "model_name": "OutputModel",
     "state": {
      "_dom_classes": [],
      "_model_module": "@jupyter-widgets/output",
      "_model_module_version": "1.0.0",
      "_model_name": "OutputModel",
      "_view_count": null,
      "_view_module": "@jupyter-widgets/output",
      "_view_module_version": "1.0.0",
      "_view_name": "OutputView",
      "layout": "IPY_MODEL_f11ee880876943519ebcd3c859bef396",
      "msg_id": "",
      "outputs": [
       {
        "image/png": "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\n",
        "metadata": {
         "needs_background": "light",
         "tags": []
        },
        "output_type": "display_data",
        "text/plain": "<Figure size 1080x720 with 1 Axes>"
       }
      ]
     }
    },
    "d7e8bdce6f044a198a38e4a357580ba8": {
     "model_module": "@jupyter-widgets/controls",
     "model_name": "FloatSliderModel",
     "state": {
      "_dom_classes": [],
      "_model_module": "@jupyter-widgets/controls",
      "_model_module_version": "1.5.0",
      "_model_name": "FloatSliderModel",
      "_view_count": null,
      "_view_module": "@jupyter-widgets/controls",
      "_view_module_version": "1.5.0",
      "_view_name": "FloatSliderView",
      "continuous_update": true,
      "description": "k (W/m-k):",
      "description_tooltip": null,
      "disabled": false,
      "layout": "IPY_MODEL_1e09a748e5e241abbcf782a2c3e68c44",
      "max": 1000,
      "min": 0.5,
      "orientation": "horizontal",
      "readout": true,
      "readout_format": ".2f",
      "step": 0.5,
      "style": "IPY_MODEL_0cbdb4fbd5be4239abd4b684d1701cc6",
      "value": 1
     }
    },
    "e0445dd40ae3432fa3fa6477e099053e": {
     "model_module": "@jupyter-widgets/controls",
     "model_name": "SliderStyleModel",
     "state": {
      "_model_module": "@jupyter-widgets/controls",
      "_model_module_version": "1.5.0",
      "_model_name": "SliderStyleModel",
      "_view_count": null,
      "_view_module": "@jupyter-widgets/base",
      "_view_module_version": "1.2.0",
      "_view_name": "StyleView",
      "description_width": "",
      "handle_color": null
     }
    },
    "f11ee880876943519ebcd3c859bef396": {
     "model_module": "@jupyter-widgets/base",
     "model_name": "LayoutModel",
     "state": {
      "_model_module": "@jupyter-widgets/base",
      "_model_module_version": "1.2.0",
      "_model_name": "LayoutModel",
      "_view_count": null,
      "_view_module": "@jupyter-widgets/base",
      "_view_module_version": "1.2.0",
      "_view_name": "LayoutView",
      "align_content": null,
      "align_items": null,
      "align_self": null,
      "border": null,
      "bottom": null,
      "display": null,
      "flex": null,
      "flex_flow": null,
      "grid_area": null,
      "grid_auto_columns": null,
      "grid_auto_flow": null,
      "grid_auto_rows": null,
      "grid_column": null,
      "grid_gap": null,
      "grid_row": null,
      "grid_template_areas": null,
      "grid_template_columns": null,
      "grid_template_rows": null,
      "height": null,
      "justify_content": null,
      "justify_items": null,
      "left": null,
      "margin": null,
      "max_height": null,
      "max_width": null,
      "min_height": null,
      "min_width": null,
      "object_fit": null,
      "object_position": null,
      "order": null,
      "overflow": null,
      "overflow_x": null,
      "overflow_y": null,
      "padding": null,
      "right": null,
      "top": null,
      "visibility": null,
      "width": null
     }
    },
    "f3526b9be9224c7e84307dff1b4f466a": {
     "model_module": "@jupyter-widgets/base",
     "model_name": "LayoutModel",
     "state": {
      "_model_module": "@jupyter-widgets/base",
      "_model_module_version": "1.2.0",
      "_model_name": "LayoutModel",
      "_view_count": null,
      "_view_module": "@jupyter-widgets/base",
      "_view_module_version": "1.2.0",
      "_view_name": "LayoutView",
      "align_content": null,
      "align_items": null,
      "align_self": null,
      "border": null,
      "bottom": null,
      "display": null,
      "flex": null,
      "flex_flow": null,
      "grid_area": null,
      "grid_auto_columns": null,
      "grid_auto_flow": null,
      "grid_auto_rows": null,
      "grid_column": null,
      "grid_gap": null,
      "grid_row": null,
      "grid_template_areas": null,
      "grid_template_columns": null,
      "grid_template_rows": null,
      "height": null,
      "justify_content": null,
      "justify_items": null,
      "left": null,
      "margin": null,
      "max_height": null,
      "max_width": null,
      "min_height": null,
      "min_width": null,
      "object_fit": null,
      "object_position": null,
      "order": null,
      "overflow": null,
      "overflow_x": null,
      "overflow_y": null,
      "padding": null,
      "right": null,
      "top": null,
      "visibility": null,
      "width": null
     }
    }
   }
  }
 },
 "nbformat": 4,
 "nbformat_minor": 1
}
